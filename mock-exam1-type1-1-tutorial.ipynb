{
 "cells": [
  {
   "cell_type": "code",
   "execution_count": 1,
   "id": "f49feb9c",
   "metadata": {
    "_cell_guid": "b1076dfc-b9ad-4769-8c92-a6c4dae69d19",
    "_uuid": "8f2839f25d086af736a60e9eeb907d3b93b6e0e5",
    "execution": {
     "iopub.execute_input": "2023-06-09T05:57:44.324662Z",
     "iopub.status.busy": "2023-06-09T05:57:44.323119Z",
     "iopub.status.idle": "2023-06-09T05:57:44.336590Z",
     "shell.execute_reply": "2023-06-09T05:57:44.337312Z",
     "shell.execute_reply.started": "2021-12-01T13:04:40.412013Z"
    },
    "papermill": {
     "duration": 0.042433,
     "end_time": "2023-06-09T05:57:44.337680",
     "exception": false,
     "start_time": "2023-06-09T05:57:44.295247",
     "status": "completed"
    },
    "tags": []
   },
   "outputs": [],
   "source": [
    "import pandas as pd"
   ]
  },
  {
   "cell_type": "code",
   "execution_count": 2,
   "id": "e1fb7f27",
   "metadata": {
    "execution": {
     "iopub.execute_input": "2023-06-09T05:57:44.381173Z",
     "iopub.status.busy": "2023-06-09T05:57:44.380359Z",
     "iopub.status.idle": "2023-06-09T05:57:44.424034Z",
     "shell.execute_reply": "2023-06-09T05:57:44.424668Z",
     "shell.execute_reply.started": "2021-12-01T13:04:40.423714Z"
    },
    "papermill": {
     "duration": 0.067093,
     "end_time": "2023-06-09T05:57:44.424895",
     "exception": false,
     "start_time": "2023-06-09T05:57:44.357802",
     "status": "completed"
    },
    "tags": []
   },
   "outputs": [
    {
     "data": {
      "text/html": [
       "<div>\n",
       "<style scoped>\n",
       "    .dataframe tbody tr th:only-of-type {\n",
       "        vertical-align: middle;\n",
       "    }\n",
       "\n",
       "    .dataframe tbody tr th {\n",
       "        vertical-align: top;\n",
       "    }\n",
       "\n",
       "    .dataframe thead th {\n",
       "        text-align: right;\n",
       "    }\n",
       "</style>\n",
       "<table border=\"1\" class=\"dataframe\">\n",
       "  <thead>\n",
       "    <tr style=\"text-align: right;\">\n",
       "      <th></th>\n",
       "      <th>id</th>\n",
       "      <th>age</th>\n",
       "      <th>city</th>\n",
       "      <th>f1</th>\n",
       "      <th>f2</th>\n",
       "      <th>f3</th>\n",
       "      <th>f4</th>\n",
       "      <th>f5</th>\n",
       "    </tr>\n",
       "  </thead>\n",
       "  <tbody>\n",
       "    <tr>\n",
       "      <th>0</th>\n",
       "      <td>id01</td>\n",
       "      <td>2.0</td>\n",
       "      <td>서울</td>\n",
       "      <td>NaN</td>\n",
       "      <td>0</td>\n",
       "      <td>NaN</td>\n",
       "      <td>ENFJ</td>\n",
       "      <td>91.297791</td>\n",
       "    </tr>\n",
       "    <tr>\n",
       "      <th>1</th>\n",
       "      <td>id02</td>\n",
       "      <td>9.0</td>\n",
       "      <td>서울</td>\n",
       "      <td>70.0</td>\n",
       "      <td>1</td>\n",
       "      <td>NaN</td>\n",
       "      <td>ENFJ</td>\n",
       "      <td>60.339826</td>\n",
       "    </tr>\n",
       "    <tr>\n",
       "      <th>2</th>\n",
       "      <td>id03</td>\n",
       "      <td>27.0</td>\n",
       "      <td>서울</td>\n",
       "      <td>61.0</td>\n",
       "      <td>1</td>\n",
       "      <td>NaN</td>\n",
       "      <td>ISTJ</td>\n",
       "      <td>17.252986</td>\n",
       "    </tr>\n",
       "    <tr>\n",
       "      <th>3</th>\n",
       "      <td>id04</td>\n",
       "      <td>75.0</td>\n",
       "      <td>서울</td>\n",
       "      <td>NaN</td>\n",
       "      <td>2</td>\n",
       "      <td>NaN</td>\n",
       "      <td>INFP</td>\n",
       "      <td>52.667078</td>\n",
       "    </tr>\n",
       "    <tr>\n",
       "      <th>4</th>\n",
       "      <td>id05</td>\n",
       "      <td>24.0</td>\n",
       "      <td>서울</td>\n",
       "      <td>85.0</td>\n",
       "      <td>2</td>\n",
       "      <td>NaN</td>\n",
       "      <td>ISFJ</td>\n",
       "      <td>29.269869</td>\n",
       "    </tr>\n",
       "  </tbody>\n",
       "</table>\n",
       "</div>"
      ],
      "text/plain": [
       "     id   age city    f1  f2   f3    f4         f5\n",
       "0  id01   2.0   서울   NaN   0  NaN  ENFJ  91.297791\n",
       "1  id02   9.0   서울  70.0   1  NaN  ENFJ  60.339826\n",
       "2  id03  27.0   서울  61.0   1  NaN  ISTJ  17.252986\n",
       "3  id04  75.0   서울   NaN   2  NaN  INFP  52.667078\n",
       "4  id05  24.0   서울  85.0   2  NaN  ISFJ  29.269869"
      ]
     },
     "execution_count": 2,
     "metadata": {},
     "output_type": "execute_result"
    }
   ],
   "source": [
    "# 데이터\n",
    "df = pd.read_csv(\"../input/bigdatacertificationkr/basic1.csv\")\n",
    "df.head()"
   ]
  },
  {
   "cell_type": "markdown",
   "id": "934e9155",
   "metadata": {
    "papermill": {
     "duration": 0.01942,
     "end_time": "2023-06-09T05:57:44.467369",
     "exception": false,
     "start_time": "2023-06-09T05:57:44.447949",
     "status": "completed"
    },
    "tags": []
   },
   "source": [
    "## 1. 첫번째 데이터 부터 순서대로 50:50으로 데이터를 나누고, 앞에서 부터 50%의 데이터(이하, A그룹)는 'f1'컬럼의 결측치를 A그룹의 중앙값으로 채우고, 뒤에서부터 50% 데이터(이하, B그룹)는 'f1'컬럼의 결측치를 B그룹의 최대값으로 채운 후, A그룹과 B그룹의 표준편차 합을 구하시오\n",
    "### 단, 소수점 첫째자리까지 구하시오 (둘째자리에서 반올림)"
   ]
  },
  {
   "cell_type": "code",
   "execution_count": 3,
   "id": "086b4a04",
   "metadata": {
    "execution": {
     "iopub.execute_input": "2023-06-09T05:57:44.512769Z",
     "iopub.status.busy": "2023-06-09T05:57:44.511642Z",
     "iopub.status.idle": "2023-06-09T05:57:44.522150Z",
     "shell.execute_reply": "2023-06-09T05:57:44.522774Z",
     "shell.execute_reply.started": "2021-12-01T13:04:40.452255Z"
    },
    "papermill": {
     "duration": 0.035237,
     "end_time": "2023-06-09T05:57:44.523003",
     "exception": false,
     "start_time": "2023-06-09T05:57:44.487766",
     "status": "completed"
    },
    "tags": []
   },
   "outputs": [
    {
     "data": {
      "text/plain": [
       "(100, 8)"
      ]
     },
     "execution_count": 3,
     "metadata": {},
     "output_type": "execute_result"
    }
   ],
   "source": [
    "df = pd.read_csv(\"../input/bigdatacertificationkr/basic1.csv\")\n",
    "df.shape"
   ]
  },
  {
   "cell_type": "code",
   "execution_count": 4,
   "id": "4dabf5e2",
   "metadata": {
    "execution": {
     "iopub.execute_input": "2023-06-09T05:57:44.568488Z",
     "iopub.status.busy": "2023-06-09T05:57:44.567366Z",
     "iopub.status.idle": "2023-06-09T05:57:44.574661Z",
     "shell.execute_reply": "2023-06-09T05:57:44.575237Z",
     "shell.execute_reply.started": "2021-12-01T13:04:40.462905Z"
    },
    "papermill": {
     "duration": 0.031809,
     "end_time": "2023-06-09T05:57:44.575452",
     "exception": false,
     "start_time": "2023-06-09T05:57:44.543643",
     "status": "completed"
    },
    "tags": []
   },
   "outputs": [
    {
     "data": {
      "text/plain": [
       "((50, 8), (50, 8))"
      ]
     },
     "execution_count": 4,
     "metadata": {},
     "output_type": "execute_result"
    }
   ],
   "source": [
    "# 50:50\n",
    "dfA = df[:50]\n",
    "dfB = df[50:]\n",
    "dfA.shape, dfB.shape"
   ]
  },
  {
   "cell_type": "code",
   "execution_count": 5,
   "id": "c75bae31",
   "metadata": {
    "execution": {
     "iopub.execute_input": "2023-06-09T05:57:44.623074Z",
     "iopub.status.busy": "2023-06-09T05:57:44.621777Z",
     "iopub.status.idle": "2023-06-09T05:57:44.637424Z",
     "shell.execute_reply": "2023-06-09T05:57:44.638082Z",
     "shell.execute_reply.started": "2021-12-01T13:04:40.472841Z"
    },
    "papermill": {
     "duration": 0.042316,
     "end_time": "2023-06-09T05:57:44.638289",
     "exception": false,
     "start_time": "2023-06-09T05:57:44.595973",
     "status": "completed"
    },
    "tags": []
   },
   "outputs": [
    {
     "name": "stderr",
     "output_type": "stream",
     "text": [
      "/opt/conda/lib/python3.7/site-packages/pandas/core/indexing.py:1773: SettingWithCopyWarning: \n",
      "A value is trying to be set on a copy of a slice from a DataFrame.\n",
      "Try using .loc[row_indexer,col_indexer] = value instead\n",
      "\n",
      "See the caveats in the documentation: https://pandas.pydata.org/pandas-docs/stable/user_guide/indexing.html#returning-a-view-versus-a-copy\n",
      "  self._setitem_single_column(ilocs[0], value, pi)\n"
     ]
    }
   ],
   "source": [
    "# 결측치 채우기\n",
    "dfA.loc[:,'f1'] = dfA['f1'].fillna(dfA['f1'].median())\n",
    "dfB.loc[:,'f1'] = dfB['f1'].fillna(dfB['f1'].max())"
   ]
  },
  {
   "cell_type": "code",
   "execution_count": 6,
   "id": "c8bdfaa8",
   "metadata": {
    "execution": {
     "iopub.execute_input": "2023-06-09T05:57:44.687665Z",
     "iopub.status.busy": "2023-06-09T05:57:44.686863Z",
     "iopub.status.idle": "2023-06-09T05:57:44.689775Z",
     "shell.execute_reply": "2023-06-09T05:57:44.690363Z",
     "shell.execute_reply.started": "2021-12-01T13:04:40.487608Z"
    },
    "papermill": {
     "duration": 0.031219,
     "end_time": "2023-06-09T05:57:44.690567",
     "exception": false,
     "start_time": "2023-06-09T05:57:44.659348",
     "status": "completed"
    },
    "tags": []
   },
   "outputs": [
    {
     "data": {
      "text/plain": [
       "13.70239067477211"
      ]
     },
     "execution_count": 6,
     "metadata": {},
     "output_type": "execute_result"
    }
   ],
   "source": [
    "# 표준편차 확인\n",
    "dfA['f1'].std()"
   ]
  },
  {
   "cell_type": "code",
   "execution_count": 7,
   "id": "71d02e16",
   "metadata": {
    "execution": {
     "iopub.execute_input": "2023-06-09T05:57:44.741249Z",
     "iopub.status.busy": "2023-06-09T05:57:44.740373Z",
     "iopub.status.idle": "2023-06-09T05:57:44.744307Z",
     "shell.execute_reply": "2023-06-09T05:57:44.745191Z",
     "shell.execute_reply.started": "2021-12-01T13:04:40.501119Z"
    },
    "papermill": {
     "duration": 0.033626,
     "end_time": "2023-06-09T05:57:44.745419",
     "exception": false,
     "start_time": "2023-06-09T05:57:44.711793",
     "status": "completed"
    },
    "tags": []
   },
   "outputs": [
    {
     "data": {
      "text/plain": [
       "28.299304094710486"
      ]
     },
     "execution_count": 7,
     "metadata": {},
     "output_type": "execute_result"
    }
   ],
   "source": [
    "# 표준편차 확인\n",
    "dfB['f1'].std()"
   ]
  },
  {
   "cell_type": "code",
   "execution_count": 8,
   "id": "c5e39e88",
   "metadata": {
    "execution": {
     "iopub.execute_input": "2023-06-09T05:57:44.800253Z",
     "iopub.status.busy": "2023-06-09T05:57:44.799279Z",
     "iopub.status.idle": "2023-06-09T05:57:44.804609Z",
     "shell.execute_reply": "2023-06-09T05:57:44.805309Z",
     "shell.execute_reply.started": "2021-12-01T13:04:40.511857Z"
    },
    "papermill": {
     "duration": 0.036203,
     "end_time": "2023-06-09T05:57:44.805524",
     "exception": false,
     "start_time": "2023-06-09T05:57:44.769321",
     "status": "completed"
    },
    "tags": []
   },
   "outputs": [
    {
     "name": "stdout",
     "output_type": "stream",
     "text": [
      "42.0\n"
     ]
    }
   ],
   "source": [
    "# 결과 출력\n",
    "print(round(dfA['f1'].std() + dfB['f1'].std(),1))"
   ]
  },
  {
   "cell_type": "markdown",
   "id": "01795405",
   "metadata": {
    "papermill": {
     "duration": 0.022096,
     "end_time": "2023-06-09T05:57:44.850142",
     "exception": false,
     "start_time": "2023-06-09T05:57:44.828046",
     "status": "completed"
    },
    "tags": []
   },
   "source": [
    "## 2. 'f4'컬럼을 기준 내림차순 정렬과 'f5'컬럼기준 오름차순 정렬을 순서대로 다중 조건 정렬하고나서 앞에서부터 10개의 데이터 중 'f5'컬럼의 최소값 찾고, 이 최소값으로 앞에서 부터 10개의 'f5'컬럼 데이터를 변경함. 그리고 'f5'컬럼의 평균값을 계산함\n",
    "### 단 소수점 둘째자리까지 출력(셋째자리에서 반올림)"
   ]
  },
  {
   "cell_type": "code",
   "execution_count": 9,
   "id": "c79ca826",
   "metadata": {
    "execution": {
     "iopub.execute_input": "2023-06-09T05:57:44.899026Z",
     "iopub.status.busy": "2023-06-09T05:57:44.898202Z",
     "iopub.status.idle": "2023-06-09T05:57:44.943658Z",
     "shell.execute_reply": "2023-06-09T05:57:44.942919Z",
     "shell.execute_reply.started": "2021-12-01T13:04:40.521398Z"
    },
    "papermill": {
     "duration": 0.071741,
     "end_time": "2023-06-09T05:57:44.943865",
     "exception": false,
     "start_time": "2023-06-09T05:57:44.872124",
     "status": "completed"
    },
    "tags": []
   },
   "outputs": [
    {
     "data": {
      "text/html": [
       "<div>\n",
       "<style scoped>\n",
       "    .dataframe tbody tr th:only-of-type {\n",
       "        vertical-align: middle;\n",
       "    }\n",
       "\n",
       "    .dataframe tbody tr th {\n",
       "        vertical-align: top;\n",
       "    }\n",
       "\n",
       "    .dataframe thead th {\n",
       "        text-align: right;\n",
       "    }\n",
       "</style>\n",
       "<table border=\"1\" class=\"dataframe\">\n",
       "  <thead>\n",
       "    <tr style=\"text-align: right;\">\n",
       "      <th></th>\n",
       "      <th>id</th>\n",
       "      <th>age</th>\n",
       "      <th>city</th>\n",
       "      <th>f1</th>\n",
       "      <th>f2</th>\n",
       "      <th>f3</th>\n",
       "      <th>f4</th>\n",
       "      <th>f5</th>\n",
       "    </tr>\n",
       "  </thead>\n",
       "  <tbody>\n",
       "    <tr>\n",
       "      <th>0</th>\n",
       "      <td>id43</td>\n",
       "      <td>23.0</td>\n",
       "      <td>대구</td>\n",
       "      <td>60.0</td>\n",
       "      <td>0</td>\n",
       "      <td>NaN</td>\n",
       "      <td>ISTP</td>\n",
       "      <td>29.269869</td>\n",
       "    </tr>\n",
       "    <tr>\n",
       "      <th>1</th>\n",
       "      <td>id70</td>\n",
       "      <td>-9.0</td>\n",
       "      <td>경기</td>\n",
       "      <td>96.0</td>\n",
       "      <td>1</td>\n",
       "      <td>NaN</td>\n",
       "      <td>ISTP</td>\n",
       "      <td>48.431184</td>\n",
       "    </tr>\n",
       "    <tr>\n",
       "      <th>2</th>\n",
       "      <td>id17</td>\n",
       "      <td>74.0</td>\n",
       "      <td>서울</td>\n",
       "      <td>NaN</td>\n",
       "      <td>1</td>\n",
       "      <td>NaN</td>\n",
       "      <td>ISTP</td>\n",
       "      <td>67.886373</td>\n",
       "    </tr>\n",
       "    <tr>\n",
       "      <th>3</th>\n",
       "      <td>id23</td>\n",
       "      <td>34.0</td>\n",
       "      <td>부산</td>\n",
       "      <td>75.0</td>\n",
       "      <td>1</td>\n",
       "      <td>NaN</td>\n",
       "      <td>ISTP</td>\n",
       "      <td>69.730313</td>\n",
       "    </tr>\n",
       "    <tr>\n",
       "      <th>4</th>\n",
       "      <td>id03</td>\n",
       "      <td>27.0</td>\n",
       "      <td>서울</td>\n",
       "      <td>61.0</td>\n",
       "      <td>1</td>\n",
       "      <td>NaN</td>\n",
       "      <td>ISTJ</td>\n",
       "      <td>17.252986</td>\n",
       "    </tr>\n",
       "    <tr>\n",
       "      <th>...</th>\n",
       "      <td>...</td>\n",
       "      <td>...</td>\n",
       "      <td>...</td>\n",
       "      <td>...</td>\n",
       "      <td>...</td>\n",
       "      <td>...</td>\n",
       "      <td>...</td>\n",
       "      <td>...</td>\n",
       "    </tr>\n",
       "    <tr>\n",
       "      <th>95</th>\n",
       "      <td>id33</td>\n",
       "      <td>47.0</td>\n",
       "      <td>부산</td>\n",
       "      <td>94.0</td>\n",
       "      <td>0</td>\n",
       "      <td>NaN</td>\n",
       "      <td>ENFJ</td>\n",
       "      <td>17.252986</td>\n",
       "    </tr>\n",
       "    <tr>\n",
       "      <th>96</th>\n",
       "      <td>id41</td>\n",
       "      <td>81.0</td>\n",
       "      <td>대구</td>\n",
       "      <td>55.0</td>\n",
       "      <td>0</td>\n",
       "      <td>NaN</td>\n",
       "      <td>ENFJ</td>\n",
       "      <td>37.113739</td>\n",
       "    </tr>\n",
       "    <tr>\n",
       "      <th>97</th>\n",
       "      <td>id02</td>\n",
       "      <td>9.0</td>\n",
       "      <td>서울</td>\n",
       "      <td>70.0</td>\n",
       "      <td>1</td>\n",
       "      <td>NaN</td>\n",
       "      <td>ENFJ</td>\n",
       "      <td>60.339826</td>\n",
       "    </tr>\n",
       "    <tr>\n",
       "      <th>98</th>\n",
       "      <td>id54</td>\n",
       "      <td>53.0</td>\n",
       "      <td>대구</td>\n",
       "      <td>NaN</td>\n",
       "      <td>1</td>\n",
       "      <td>NaN</td>\n",
       "      <td>ENFJ</td>\n",
       "      <td>69.730313</td>\n",
       "    </tr>\n",
       "    <tr>\n",
       "      <th>99</th>\n",
       "      <td>id01</td>\n",
       "      <td>2.0</td>\n",
       "      <td>서울</td>\n",
       "      <td>NaN</td>\n",
       "      <td>0</td>\n",
       "      <td>NaN</td>\n",
       "      <td>ENFJ</td>\n",
       "      <td>91.297791</td>\n",
       "    </tr>\n",
       "  </tbody>\n",
       "</table>\n",
       "<p>100 rows × 8 columns</p>\n",
       "</div>"
      ],
      "text/plain": [
       "      id   age city    f1  f2   f3    f4         f5\n",
       "0   id43  23.0   대구  60.0   0  NaN  ISTP  29.269869\n",
       "1   id70  -9.0   경기  96.0   1  NaN  ISTP  48.431184\n",
       "2   id17  74.0   서울   NaN   1  NaN  ISTP  67.886373\n",
       "3   id23  34.0   부산  75.0   1  NaN  ISTP  69.730313\n",
       "4   id03  27.0   서울  61.0   1  NaN  ISTJ  17.252986\n",
       "..   ...   ...  ...   ...  ..  ...   ...        ...\n",
       "95  id33  47.0   부산  94.0   0  NaN  ENFJ  17.252986\n",
       "96  id41  81.0   대구  55.0   0  NaN  ENFJ  37.113739\n",
       "97  id02   9.0   서울  70.0   1  NaN  ENFJ  60.339826\n",
       "98  id54  53.0   대구   NaN   1  NaN  ENFJ  69.730313\n",
       "99  id01   2.0   서울   NaN   0  NaN  ENFJ  91.297791\n",
       "\n",
       "[100 rows x 8 columns]"
      ]
     },
     "execution_count": 9,
     "metadata": {},
     "output_type": "execute_result"
    }
   ],
   "source": [
    "df = pd.read_csv(\"../input/bigdatacertificationkr/basic1.csv\")\n",
    "df = df.sort_values(['f4','f5'], ascending=[False, True]).reset_index(drop=True)\n",
    "df"
   ]
  },
  {
   "cell_type": "code",
   "execution_count": 10,
   "id": "4930e173",
   "metadata": {
    "execution": {
     "iopub.execute_input": "2023-06-09T05:57:45.001374Z",
     "iopub.status.busy": "2023-06-09T05:57:45.000256Z",
     "iopub.status.idle": "2023-06-09T05:57:45.004149Z",
     "shell.execute_reply": "2023-06-09T05:57:45.004787Z",
     "shell.execute_reply.started": "2021-12-01T13:04:40.550413Z"
    },
    "papermill": {
     "duration": 0.035473,
     "end_time": "2023-06-09T05:57:45.004993",
     "exception": false,
     "start_time": "2023-06-09T05:57:44.969520",
     "status": "completed"
    },
    "tags": []
   },
   "outputs": [
    {
     "name": "stdout",
     "output_type": "stream",
     "text": [
      "53.63\n"
     ]
    }
   ],
   "source": [
    "df.iloc[:10,7] = df['f5'][:10].min()\n",
    "print(round(df['f5'].mean(),2))"
   ]
  },
  {
   "cell_type": "markdown",
   "id": "66548903",
   "metadata": {
    "papermill": {
     "duration": 0.023341,
     "end_time": "2023-06-09T05:57:45.051467",
     "exception": false,
     "start_time": "2023-06-09T05:57:45.028126",
     "status": "completed"
    },
    "tags": []
   },
   "source": [
    "## 3. 'age' 컬럼의 IQR방식을 이용한 이상치 개수와 표준편차*1.5방식을 이용한 이상치의 개수를 더하시오\n",
    "- IQR방식 : Q1 - 1.5 * IQR, Q3 + 1.5 * IQR에서 벗어나는 영역을 이상치라고 판단함 (Q1은 데이터의 25%, Q3는 데이터의 75% 지점임)\n",
    "- 표준편차*1.5방식: 평균으로부터 '표준편차*1.5'를 벗어나는 영역을 이상치라고 판단함"
   ]
  },
  {
   "cell_type": "code",
   "execution_count": 11,
   "id": "d271db81",
   "metadata": {
    "execution": {
     "iopub.execute_input": "2023-06-09T05:57:45.110215Z",
     "iopub.status.busy": "2023-06-09T05:57:45.109022Z",
     "iopub.status.idle": "2023-06-09T05:57:45.116058Z",
     "shell.execute_reply": "2023-06-09T05:57:45.116692Z",
     "shell.execute_reply.started": "2021-12-01T13:04:40.559008Z"
    },
    "papermill": {
     "duration": 0.040695,
     "end_time": "2023-06-09T05:57:45.116932",
     "exception": false,
     "start_time": "2023-06-09T05:57:45.076237",
     "status": "completed"
    },
    "tags": []
   },
   "outputs": [],
   "source": [
    "df = pd.read_csv(\"../input/bigdatacertificationkr/basic1.csv\")"
   ]
  },
  {
   "cell_type": "code",
   "execution_count": 12,
   "id": "b480a195",
   "metadata": {
    "execution": {
     "iopub.execute_input": "2023-06-09T05:57:45.170557Z",
     "iopub.status.busy": "2023-06-09T05:57:45.169451Z",
     "iopub.status.idle": "2023-06-09T05:57:45.178641Z",
     "shell.execute_reply": "2023-06-09T05:57:45.179370Z",
     "shell.execute_reply.started": "2021-12-01T13:04:40.572903Z"
    },
    "papermill": {
     "duration": 0.037992,
     "end_time": "2023-06-09T05:57:45.179573",
     "exception": false,
     "start_time": "2023-06-09T05:57:45.141581",
     "status": "completed"
    },
    "tags": []
   },
   "outputs": [
    {
     "name": "stdout",
     "output_type": "stream",
     "text": [
      "-48.3125 152.1875\n"
     ]
    }
   ],
   "source": [
    "# IQR방식 기준점\n",
    "Q1 = df['age'].quantile(.25)\n",
    "Q3 = df['age'].quantile(.75)\n",
    "IQR = Q3 - Q1\n",
    "min_iqr = Q1-1.5*IQR\n",
    "max_iqr = Q3+1.5*IQR\n",
    "print(min_iqr, max_iqr)"
   ]
  },
  {
   "cell_type": "code",
   "execution_count": 13,
   "id": "dc13b489",
   "metadata": {
    "execution": {
     "iopub.execute_input": "2023-06-09T05:57:45.238948Z",
     "iopub.status.busy": "2023-06-09T05:57:45.238071Z",
     "iopub.status.idle": "2023-06-09T05:57:45.241710Z",
     "shell.execute_reply": "2023-06-09T05:57:45.242387Z",
     "shell.execute_reply.started": "2021-12-01T13:04:40.585137Z"
    },
    "papermill": {
     "duration": 0.038185,
     "end_time": "2023-06-09T05:57:45.242594",
     "exception": false,
     "start_time": "2023-06-09T05:57:45.204409",
     "status": "completed"
    },
    "tags": []
   },
   "outputs": [
    {
     "name": "stdout",
     "output_type": "stream",
     "text": [
      "5.298862216116952 96.62713778388306\n"
     ]
    }
   ],
   "source": [
    "# 표준편차*1.5 방식 기준점\n",
    "std = df['age'].std() * 1.5\n",
    "mean = df['age'].mean()\n",
    "min_out = mean - std\n",
    "max_out = mean + std\n",
    "print(min_out, max_out)"
   ]
  },
  {
   "cell_type": "code",
   "execution_count": 14,
   "id": "62f02514",
   "metadata": {
    "execution": {
     "iopub.execute_input": "2023-06-09T05:57:45.300118Z",
     "iopub.status.busy": "2023-06-09T05:57:45.299113Z",
     "iopub.status.idle": "2023-06-09T05:57:45.306978Z",
     "shell.execute_reply": "2023-06-09T05:57:45.307790Z",
     "shell.execute_reply.started": "2021-12-01T13:04:40.602282Z"
    },
    "papermill": {
     "duration": 0.038778,
     "end_time": "2023-06-09T05:57:45.308029",
     "exception": false,
     "start_time": "2023-06-09T05:57:45.269251",
     "status": "completed"
    },
    "tags": []
   },
   "outputs": [
    {
     "data": {
      "text/plain": [
       "14"
      ]
     },
     "execution_count": 14,
     "metadata": {},
     "output_type": "execute_result"
    }
   ],
   "source": [
    "# 표준편차*1.5 방식 기준\n",
    "out1 = sum((df['age'] < min_out) | (df['age'] > max_out))\n",
    "out1"
   ]
  },
  {
   "cell_type": "code",
   "execution_count": 15,
   "id": "95cf0621",
   "metadata": {
    "execution": {
     "iopub.execute_input": "2023-06-09T05:57:45.366229Z",
     "iopub.status.busy": "2023-06-09T05:57:45.365013Z",
     "iopub.status.idle": "2023-06-09T05:57:45.373414Z",
     "shell.execute_reply": "2023-06-09T05:57:45.374582Z",
     "shell.execute_reply.started": "2021-12-01T13:04:40.611661Z"
    },
    "papermill": {
     "duration": 0.042541,
     "end_time": "2023-06-09T05:57:45.374962",
     "exception": false,
     "start_time": "2023-06-09T05:57:45.332421",
     "status": "completed"
    },
    "tags": []
   },
   "outputs": [
    {
     "data": {
      "text/plain": [
       "0"
      ]
     },
     "execution_count": 15,
     "metadata": {},
     "output_type": "execute_result"
    }
   ],
   "source": [
    "# IQR방식 기준\n",
    "out2 = sum((df['age'] < min_iqr) | (df['age'] > max_iqr))\n",
    "out2"
   ]
  },
  {
   "cell_type": "code",
   "execution_count": 16,
   "id": "beec53a0",
   "metadata": {
    "execution": {
     "iopub.execute_input": "2023-06-09T05:57:45.443115Z",
     "iopub.status.busy": "2023-06-09T05:57:45.442245Z",
     "iopub.status.idle": "2023-06-09T05:57:45.458482Z",
     "shell.execute_reply": "2023-06-09T05:57:45.459199Z",
     "shell.execute_reply.started": "2021-12-01T13:04:40.622106Z"
    },
    "papermill": {
     "duration": 0.048414,
     "end_time": "2023-06-09T05:57:45.459683",
     "exception": false,
     "start_time": "2023-06-09T05:57:45.411269",
     "status": "completed"
    },
    "tags": []
   },
   "outputs": [
    {
     "name": "stdout",
     "output_type": "stream",
     "text": [
      "14\n"
     ]
    }
   ],
   "source": [
    "print(out1+out2)"
   ]
  }
 ],
 "metadata": {
  "kernelspec": {
   "display_name": "Python 3",
   "language": "python",
   "name": "python3"
  },
  "language_info": {
   "codemirror_mode": {
    "name": "ipython",
    "version": 3
   },
   "file_extension": ".py",
   "mimetype": "text/x-python",
   "name": "python",
   "nbconvert_exporter": "python",
   "pygments_lexer": "ipython3",
   "version": "3.7.10"
  },
  "papermill": {
   "default_parameters": {},
   "duration": 15.09539,
   "end_time": "2023-06-09T05:57:46.200314",
   "environment_variables": {},
   "exception": null,
   "input_path": "__notebook__.ipynb",
   "output_path": "__notebook__.ipynb",
   "parameters": {},
   "start_time": "2023-06-09T05:57:31.104924",
   "version": "2.3.3"
  }
 },
 "nbformat": 4,
 "nbformat_minor": 5
}
