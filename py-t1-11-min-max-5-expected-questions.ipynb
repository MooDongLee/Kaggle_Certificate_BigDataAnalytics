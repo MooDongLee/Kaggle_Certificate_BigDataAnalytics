{
 "cells": [
  {
   "cell_type": "code",
   "execution_count": 1,
   "id": "cd6eb491",
   "metadata": {
    "_cell_guid": "b1076dfc-b9ad-4769-8c92-a6c4dae69d19",
    "_uuid": "8f2839f25d086af736a60e9eeb907d3b93b6e0e5",
    "execution": {
     "iopub.execute_input": "2023-06-02T09:28:55.283759Z",
     "iopub.status.busy": "2023-06-02T09:28:55.283189Z",
     "iopub.status.idle": "2023-06-02T09:28:55.290751Z",
     "shell.execute_reply": "2023-06-02T09:28:55.289344Z"
    },
    "papermill": {
     "duration": 0.020649,
     "end_time": "2023-06-02T09:28:55.297256",
     "exception": false,
     "start_time": "2023-06-02T09:28:55.276607",
     "status": "completed"
    },
    "tags": []
   },
   "outputs": [],
   "source": [
    "# %% [code]\n",
    "# min-max스케일링 기준 상하위 5% 구하기\n",
    "# 주어진 데이터에서 'f5'컬럼을 min-max 스케일 변환한 후, 상위 5%와 하위 5% 값의 합을 구하시오\n",
    "\n",
    "# - 데이터셋 : basic1.csv\n",
    "# - 오른쪽 상단 copy&edit 클릭 -> 예상문제 풀이 시작\n",
    "# - File -> Editor Type -> Script"
   ]
  },
  {
   "cell_type": "code",
   "execution_count": 2,
   "id": "b4e71a53",
   "metadata": {
    "execution": {
     "iopub.execute_input": "2023-06-02T09:28:55.307863Z",
     "iopub.status.busy": "2023-06-02T09:28:55.307159Z",
     "iopub.status.idle": "2023-06-02T09:28:55.337688Z",
     "shell.execute_reply": "2023-06-02T09:28:55.336542Z"
    },
    "papermill": {
     "duration": 0.038983,
     "end_time": "2023-06-02T09:28:55.340528",
     "exception": false,
     "start_time": "2023-06-02T09:28:55.301545",
     "status": "completed"
    },
    "tags": []
   },
   "outputs": [],
   "source": [
    "# 라이브러리 및 데이터 불러오기\n",
    "import pandas as pd\n",
    "import numpy as np\n",
    "\n",
    "df = pd.read_csv('/kaggle/input/basicdata/basic1.csv')"
   ]
  },
  {
   "cell_type": "code",
   "execution_count": 3,
   "id": "f4a03d46",
   "metadata": {
    "execution": {
     "iopub.execute_input": "2023-06-02T09:28:55.351361Z",
     "iopub.status.busy": "2023-06-02T09:28:55.350593Z",
     "iopub.status.idle": "2023-06-02T09:28:55.380392Z",
     "shell.execute_reply": "2023-06-02T09:28:55.378887Z"
    },
    "papermill": {
     "duration": 0.038522,
     "end_time": "2023-06-02T09:28:55.383188",
     "exception": false,
     "start_time": "2023-06-02T09:28:55.344666",
     "status": "completed"
    },
    "tags": []
   },
   "outputs": [
    {
     "name": "stdout",
     "output_type": "stream",
     "text": [
      "     id   age city    f1  f2   f3    f4         f5\n",
      "0  id01   2.0   서울   NaN   0  NaN  ENFJ  91.297791\n",
      "1  id02   9.0   서울  70.0   1  NaN  ENFJ  60.339826\n",
      "2  id03  27.0   서울  61.0   1  NaN  ISTJ  17.252986\n",
      "3  id04  75.0   서울   NaN   2  NaN  INFP  52.667078\n",
      "4  id05  24.0   서울  85.0   2  NaN  ISFJ  29.269869\n",
      "id       0\n",
      "age      0\n",
      "city     0\n",
      "f1      31\n",
      "f2       0\n",
      "f3      95\n",
      "f4       0\n",
      "f5       0\n",
      "dtype: int64\n"
     ]
    }
   ],
   "source": [
    "# EDA\n",
    "print(df.head(5))\n",
    "print(df.isnull().sum())    #결측치 확인"
   ]
  },
  {
   "cell_type": "code",
   "execution_count": 4,
   "id": "d7a4bb55",
   "metadata": {
    "execution": {
     "iopub.execute_input": "2023-06-02T09:28:55.393477Z",
     "iopub.status.busy": "2023-06-02T09:28:55.393064Z",
     "iopub.status.idle": "2023-06-02T09:28:56.849601Z",
     "shell.execute_reply": "2023-06-02T09:28:56.848297Z"
    },
    "papermill": {
     "duration": 1.464861,
     "end_time": "2023-06-02T09:28:56.852400",
     "exception": false,
     "start_time": "2023-06-02T09:28:55.387539",
     "status": "completed"
    },
    "tags": []
   },
   "outputs": [],
   "source": [
    "# min-max scale 방법1\n",
    "from sklearn.preprocessing import MinMaxScaler\n",
    "scaler = MinMaxScaler()\n",
    "df['f5_1'] = scaler.fit_transform(df[['f5']])"
   ]
  },
  {
   "cell_type": "code",
   "execution_count": 5,
   "id": "55cdfb0c",
   "metadata": {
    "execution": {
     "iopub.execute_input": "2023-06-02T09:28:56.862501Z",
     "iopub.status.busy": "2023-06-02T09:28:56.862074Z",
     "iopub.status.idle": "2023-06-02T09:28:56.870310Z",
     "shell.execute_reply": "2023-06-02T09:28:56.869102Z"
    },
    "papermill": {
     "duration": 0.016056,
     "end_time": "2023-06-02T09:28:56.872672",
     "exception": false,
     "start_time": "2023-06-02T09:28:56.856616",
     "status": "completed"
    },
    "tags": []
   },
   "outputs": [],
   "source": [
    "# min-max scale 방법2\n",
    "df['f5_2'] = df['f5'].transform(lambda x: ((x - x.min()) / (x.max() - x.min())))"
   ]
  },
  {
   "cell_type": "code",
   "execution_count": 6,
   "id": "b2639a65",
   "metadata": {
    "execution": {
     "iopub.execute_input": "2023-06-02T09:28:56.882597Z",
     "iopub.status.busy": "2023-06-02T09:28:56.882210Z",
     "iopub.status.idle": "2023-06-02T09:28:56.892489Z",
     "shell.execute_reply": "2023-06-02T09:28:56.891463Z"
    },
    "papermill": {
     "duration": 0.018975,
     "end_time": "2023-06-02T09:28:56.895732",
     "exception": false,
     "start_time": "2023-06-02T09:28:56.876757",
     "status": "completed"
    },
    "tags": []
   },
   "outputs": [
    {
     "name": "stdout",
     "output_type": "stream",
     "text": [
      "     id   age city    f1  f2   f3    f4         f5      f5_1      f5_2\n",
      "0  id01   2.0   서울   NaN   0  NaN  ENFJ  91.297791  0.919533  0.919533\n",
      "1  id02   9.0   서울  70.0   1  NaN  ENFJ  60.339826  0.570252  0.570252\n",
      "2  id03  27.0   서울  61.0   1  NaN  ISTJ  17.252986  0.084129  0.084129\n",
      "3  id04  75.0   서울   NaN   2  NaN  INFP  52.667078  0.483685  0.483685\n",
      "4  id05  24.0   서울  85.0   2  NaN  ISFJ  29.269869  0.219708  0.219708\n"
     ]
    }
   ],
   "source": [
    "# 방법1과 2 비교\n",
    "print(df.head())"
   ]
  },
  {
   "cell_type": "code",
   "execution_count": 7,
   "id": "3c8c69c3",
   "metadata": {
    "execution": {
     "iopub.execute_input": "2023-06-02T09:28:56.906059Z",
     "iopub.status.busy": "2023-06-02T09:28:56.905672Z",
     "iopub.status.idle": "2023-06-02T09:28:56.914110Z",
     "shell.execute_reply": "2023-06-02T09:28:56.913011Z"
    },
    "papermill": {
     "duration": 0.016498,
     "end_time": "2023-06-02T09:28:56.916481",
     "exception": false,
     "start_time": "2023-06-02T09:28:56.899983",
     "status": "completed"
    },
    "tags": []
   },
   "outputs": [
    {
     "name": "stdout",
     "output_type": "stream",
     "text": [
      "0.03670782406038746\n"
     ]
    }
   ],
   "source": [
    "# 하위 5%, 상위 5% 값 구하기\n",
    "lower = df['f5_1'].quantile(0.05)\n",
    "print(lower)"
   ]
  },
  {
   "cell_type": "code",
   "execution_count": 8,
   "id": "0406babb",
   "metadata": {
    "execution": {
     "iopub.execute_input": "2023-06-02T09:28:56.927368Z",
     "iopub.status.busy": "2023-06-02T09:28:56.926257Z",
     "iopub.status.idle": "2023-06-02T09:28:56.934257Z",
     "shell.execute_reply": "2023-06-02T09:28:56.933224Z"
    },
    "papermill": {
     "duration": 0.016142,
     "end_time": "2023-06-02T09:28:56.936893",
     "exception": false,
     "start_time": "2023-06-02T09:28:56.920751",
     "status": "completed"
    },
    "tags": []
   },
   "outputs": [
    {
     "name": "stdout",
     "output_type": "stream",
     "text": [
      "0.9881662742993513\n"
     ]
    }
   ],
   "source": [
    "upper = df['f5_1'].quantile(0.95)\n",
    "print(upper)"
   ]
  },
  {
   "cell_type": "code",
   "execution_count": 9,
   "id": "649147dc",
   "metadata": {
    "execution": {
     "iopub.execute_input": "2023-06-02T09:28:56.947841Z",
     "iopub.status.busy": "2023-06-02T09:28:56.946914Z",
     "iopub.status.idle": "2023-06-02T09:28:56.953565Z",
     "shell.execute_reply": "2023-06-02T09:28:56.952332Z"
    },
    "papermill": {
     "duration": 0.015344,
     "end_time": "2023-06-02T09:28:56.956619",
     "exception": false,
     "start_time": "2023-06-02T09:28:56.941275",
     "status": "completed"
    },
    "tags": []
   },
   "outputs": [
    {
     "name": "stdout",
     "output_type": "stream",
     "text": [
      "1.0248740983597389\n"
     ]
    }
   ],
   "source": [
    "print(lower + upper)"
   ]
  }
 ],
 "metadata": {
  "kernelspec": {
   "display_name": "Python 3",
   "language": "python",
   "name": "python3"
  },
  "language_info": {
   "codemirror_mode": {
    "name": "ipython",
    "version": 3
   },
   "file_extension": ".py",
   "mimetype": "text/x-python",
   "name": "python",
   "nbconvert_exporter": "python",
   "pygments_lexer": "ipython3",
   "version": "3.10.10"
  },
  "papermill": {
   "default_parameters": {},
   "duration": 15.452375,
   "end_time": "2023-06-02T09:28:57.984417",
   "environment_variables": {},
   "exception": null,
   "input_path": "__notebook__.ipynb",
   "output_path": "__notebook__.ipynb",
   "parameters": {},
   "start_time": "2023-06-02T09:28:42.532042",
   "version": "2.4.0"
  }
 },
 "nbformat": 4,
 "nbformat_minor": 5
}
