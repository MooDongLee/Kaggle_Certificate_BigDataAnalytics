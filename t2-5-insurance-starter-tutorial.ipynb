{
 "cells": [
  {
   "cell_type": "code",
   "execution_count": 1,
   "id": "7da09b75",
   "metadata": {
    "_cell_guid": "b1076dfc-b9ad-4769-8c92-a6c4dae69d19",
    "_uuid": "8f2839f25d086af736a60e9eeb907d3b93b6e0e5",
    "execution": {
     "iopub.execute_input": "2023-06-07T04:01:29.756321Z",
     "iopub.status.busy": "2023-06-07T04:01:29.754995Z",
     "iopub.status.idle": "2023-06-07T04:01:30.822237Z",
     "shell.execute_reply": "2023-06-07T04:01:30.822829Z",
     "shell.execute_reply.started": "2023-06-07T04:00:34.387813Z"
    },
    "papermill": {
     "duration": 1.098342,
     "end_time": "2023-06-07T04:01:30.823099",
     "exception": false,
     "start_time": "2023-06-07T04:01:29.724757",
     "status": "completed"
    },
    "tags": []
   },
   "outputs": [
    {
     "data": {
      "text/plain": [
       "((1070, 7), (268, 7), (1070, 2), (268, 2))"
      ]
     },
     "execution_count": 1,
     "metadata": {},
     "output_type": "execute_result"
    }
   ],
   "source": [
    "# 시험환경 세팅 (코드 변경 X)\n",
    "import pandas as pd\n",
    "import numpy as np\n",
    "from sklearn.model_selection import train_test_split\n",
    "\n",
    "def exam_data_load(df, target, id_name=\"\", null_name=\"\"):\n",
    "    if id_name == \"\":\n",
    "        df = df.reset_index().rename(columns={\"index\": \"id\"})\n",
    "        id_name = 'id'\n",
    "    else:\n",
    "        id_name = id_name\n",
    "    \n",
    "    if null_name != \"\":\n",
    "        df[df == null_name] = np.nan\n",
    "    \n",
    "    X_train, X_test = train_test_split(df, test_size=0.2, random_state=2021)\n",
    "    \n",
    "    y_train = X_train[[id_name, target]]\n",
    "    X_train = X_train.drop(columns=[target])\n",
    "\n",
    "    \n",
    "    y_test = X_test[[id_name, target]]\n",
    "    X_test = X_test.drop(columns=[target])\n",
    "    return X_train, X_test, y_train, y_test \n",
    "    \n",
    "df = pd.read_csv(\"../input/insurance/insurance.csv\")\n",
    "X_train, X_test, y_train, y_test = exam_data_load(df, target='charges')\n",
    "\n",
    "X_train.shape, X_test.shape, y_train.shape, y_test.shape"
   ]
  },
  {
   "cell_type": "markdown",
   "id": "ed0ae828",
   "metadata": {
    "papermill": {
     "duration": 0.025287,
     "end_time": "2023-06-07T04:01:30.873341",
     "exception": false,
     "start_time": "2023-06-07T04:01:30.848054",
     "status": "completed"
    },
    "tags": []
   },
   "source": [
    "# EDA"
   ]
  },
  {
   "cell_type": "code",
   "execution_count": 2,
   "id": "262c8b7f",
   "metadata": {
    "execution": {
     "iopub.execute_input": "2023-06-07T04:01:30.927265Z",
     "iopub.status.busy": "2023-06-07T04:01:30.924616Z",
     "iopub.status.idle": "2023-06-07T04:01:30.939691Z",
     "shell.execute_reply": "2023-06-07T04:01:30.940234Z",
     "shell.execute_reply.started": "2023-06-07T04:00:35.307537Z"
    },
    "papermill": {
     "duration": 0.042377,
     "end_time": "2023-06-07T04:01:30.940413",
     "exception": false,
     "start_time": "2023-06-07T04:01:30.898036",
     "status": "completed"
    },
    "tags": []
   },
   "outputs": [
    {
     "data": {
      "text/html": [
       "<div>\n",
       "<style scoped>\n",
       "    .dataframe tbody tr th:only-of-type {\n",
       "        vertical-align: middle;\n",
       "    }\n",
       "\n",
       "    .dataframe tbody tr th {\n",
       "        vertical-align: top;\n",
       "    }\n",
       "\n",
       "    .dataframe thead th {\n",
       "        text-align: right;\n",
       "    }\n",
       "</style>\n",
       "<table border=\"1\" class=\"dataframe\">\n",
       "  <thead>\n",
       "    <tr style=\"text-align: right;\">\n",
       "      <th></th>\n",
       "      <th>id</th>\n",
       "      <th>age</th>\n",
       "      <th>sex</th>\n",
       "      <th>bmi</th>\n",
       "      <th>children</th>\n",
       "      <th>smoker</th>\n",
       "      <th>region</th>\n",
       "    </tr>\n",
       "  </thead>\n",
       "  <tbody>\n",
       "    <tr>\n",
       "      <th>209</th>\n",
       "      <td>209</td>\n",
       "      <td>40</td>\n",
       "      <td>male</td>\n",
       "      <td>41.230</td>\n",
       "      <td>1</td>\n",
       "      <td>no</td>\n",
       "      <td>northeast</td>\n",
       "    </tr>\n",
       "    <tr>\n",
       "      <th>540</th>\n",
       "      <td>540</td>\n",
       "      <td>34</td>\n",
       "      <td>female</td>\n",
       "      <td>38.000</td>\n",
       "      <td>3</td>\n",
       "      <td>no</td>\n",
       "      <td>southwest</td>\n",
       "    </tr>\n",
       "    <tr>\n",
       "      <th>747</th>\n",
       "      <td>747</td>\n",
       "      <td>19</td>\n",
       "      <td>male</td>\n",
       "      <td>21.755</td>\n",
       "      <td>0</td>\n",
       "      <td>no</td>\n",
       "      <td>northwest</td>\n",
       "    </tr>\n",
       "    <tr>\n",
       "      <th>39</th>\n",
       "      <td>39</td>\n",
       "      <td>60</td>\n",
       "      <td>male</td>\n",
       "      <td>39.900</td>\n",
       "      <td>0</td>\n",
       "      <td>yes</td>\n",
       "      <td>southwest</td>\n",
       "    </tr>\n",
       "    <tr>\n",
       "      <th>640</th>\n",
       "      <td>640</td>\n",
       "      <td>33</td>\n",
       "      <td>male</td>\n",
       "      <td>42.400</td>\n",
       "      <td>5</td>\n",
       "      <td>no</td>\n",
       "      <td>southwest</td>\n",
       "    </tr>\n",
       "  </tbody>\n",
       "</table>\n",
       "</div>"
      ],
      "text/plain": [
       "      id  age     sex     bmi  children smoker     region\n",
       "209  209   40    male  41.230         1     no  northeast\n",
       "540  540   34  female  38.000         3     no  southwest\n",
       "747  747   19    male  21.755         0     no  northwest\n",
       "39    39   60    male  39.900         0    yes  southwest\n",
       "640  640   33    male  42.400         5     no  southwest"
      ]
     },
     "execution_count": 2,
     "metadata": {},
     "output_type": "execute_result"
    }
   ],
   "source": [
    "X_train.head()"
   ]
  },
  {
   "cell_type": "code",
   "execution_count": 3,
   "id": "0eca8fba",
   "metadata": {
    "execution": {
     "iopub.execute_input": "2023-06-07T04:01:30.993094Z",
     "iopub.status.busy": "2023-06-07T04:01:30.992368Z",
     "iopub.status.idle": "2023-06-07T04:01:30.999597Z",
     "shell.execute_reply": "2023-06-07T04:01:30.999999Z",
     "shell.execute_reply.started": "2023-06-07T04:00:35.328027Z"
    },
    "papermill": {
     "duration": 0.034783,
     "end_time": "2023-06-07T04:01:31.000140",
     "exception": false,
     "start_time": "2023-06-07T04:01:30.965357",
     "status": "completed"
    },
    "tags": []
   },
   "outputs": [
    {
     "data": {
      "text/html": [
       "<div>\n",
       "<style scoped>\n",
       "    .dataframe tbody tr th:only-of-type {\n",
       "        vertical-align: middle;\n",
       "    }\n",
       "\n",
       "    .dataframe tbody tr th {\n",
       "        vertical-align: top;\n",
       "    }\n",
       "\n",
       "    .dataframe thead th {\n",
       "        text-align: right;\n",
       "    }\n",
       "</style>\n",
       "<table border=\"1\" class=\"dataframe\">\n",
       "  <thead>\n",
       "    <tr style=\"text-align: right;\">\n",
       "      <th></th>\n",
       "      <th>id</th>\n",
       "      <th>charges</th>\n",
       "    </tr>\n",
       "  </thead>\n",
       "  <tbody>\n",
       "    <tr>\n",
       "      <th>209</th>\n",
       "      <td>209</td>\n",
       "      <td>6610.10970</td>\n",
       "    </tr>\n",
       "    <tr>\n",
       "      <th>540</th>\n",
       "      <td>540</td>\n",
       "      <td>6196.44800</td>\n",
       "    </tr>\n",
       "    <tr>\n",
       "      <th>747</th>\n",
       "      <td>747</td>\n",
       "      <td>1627.28245</td>\n",
       "    </tr>\n",
       "    <tr>\n",
       "      <th>39</th>\n",
       "      <td>39</td>\n",
       "      <td>48173.36100</td>\n",
       "    </tr>\n",
       "    <tr>\n",
       "      <th>640</th>\n",
       "      <td>640</td>\n",
       "      <td>6666.24300</td>\n",
       "    </tr>\n",
       "  </tbody>\n",
       "</table>\n",
       "</div>"
      ],
      "text/plain": [
       "      id      charges\n",
       "209  209   6610.10970\n",
       "540  540   6196.44800\n",
       "747  747   1627.28245\n",
       "39    39  48173.36100\n",
       "640  640   6666.24300"
      ]
     },
     "execution_count": 3,
     "metadata": {},
     "output_type": "execute_result"
    }
   ],
   "source": [
    "y_train.head()"
   ]
  },
  {
   "cell_type": "code",
   "execution_count": 4,
   "id": "b85af228",
   "metadata": {
    "execution": {
     "iopub.execute_input": "2023-06-07T04:01:31.053330Z",
     "iopub.status.busy": "2023-06-07T04:01:31.052605Z",
     "iopub.status.idle": "2023-06-07T04:01:31.268136Z",
     "shell.execute_reply": "2023-06-07T04:01:31.268567Z",
     "shell.execute_reply.started": "2023-06-07T04:00:35.340976Z"
    },
    "papermill": {
     "duration": 0.243664,
     "end_time": "2023-06-07T04:01:31.268742",
     "exception": false,
     "start_time": "2023-06-07T04:01:31.025078",
     "status": "completed"
    },
    "tags": []
   },
   "outputs": [
    {
     "data": {
      "text/plain": [
       "<AxesSubplot:>"
      ]
     },
     "execution_count": 4,
     "metadata": {},
     "output_type": "execute_result"
    },
    {
     "data": {
      "image/png": "[encoded data removed]",
      "text/plain": [
       "<Figure size 432x288 with 1 Axes>"
      ]
     },
     "metadata": {
      "needs_background": "light"
     },
     "output_type": "display_data"
    }
   ],
   "source": [
    "y_train['charges'].hist()"
   ]
  },
  {
   "cell_type": "code",
   "execution_count": 5,
   "id": "3c5b8e75",
   "metadata": {
    "execution": {
     "iopub.execute_input": "2023-06-07T04:01:31.323251Z",
     "iopub.status.busy": "2023-06-07T04:01:31.322683Z",
     "iopub.status.idle": "2023-06-07T04:01:31.328840Z",
     "shell.execute_reply": "2023-06-07T04:01:31.329308Z",
     "shell.execute_reply.started": "2023-06-07T04:00:35.656268Z"
    },
    "papermill": {
     "duration": 0.034883,
     "end_time": "2023-06-07T04:01:31.329465",
     "exception": false,
     "start_time": "2023-06-07T04:01:31.294582",
     "status": "completed"
    },
    "tags": []
   },
   "outputs": [
    {
     "data": {
      "text/plain": [
       "id          0\n",
       "age         0\n",
       "sex         0\n",
       "bmi         0\n",
       "children    0\n",
       "smoker      0\n",
       "region      0\n",
       "dtype: int64"
      ]
     },
     "execution_count": 5,
     "metadata": {},
     "output_type": "execute_result"
    }
   ],
   "source": [
    "X_train.isnull().sum()"
   ]
  },
  {
   "cell_type": "code",
   "execution_count": 6,
   "id": "1ec19a86",
   "metadata": {
    "execution": {
     "iopub.execute_input": "2023-06-07T04:01:31.390194Z",
     "iopub.status.busy": "2023-06-07T04:01:31.389648Z",
     "iopub.status.idle": "2023-06-07T04:01:31.392515Z",
     "shell.execute_reply": "2023-06-07T04:01:31.392082Z",
     "shell.execute_reply.started": "2023-06-07T04:00:35.666185Z"
    },
    "papermill": {
     "duration": 0.036208,
     "end_time": "2023-06-07T04:01:31.392636",
     "exception": false,
     "start_time": "2023-06-07T04:01:31.356428",
     "status": "completed"
    },
    "tags": []
   },
   "outputs": [
    {
     "data": {
      "text/plain": [
       "id          0\n",
       "age         0\n",
       "sex         0\n",
       "bmi         0\n",
       "children    0\n",
       "smoker      0\n",
       "region      0\n",
       "dtype: int64"
      ]
     },
     "execution_count": 6,
     "metadata": {},
     "output_type": "execute_result"
    }
   ],
   "source": [
    "X_test.isnull().sum()"
   ]
  },
  {
   "cell_type": "code",
   "execution_count": 7,
   "id": "8d50b955",
   "metadata": {
    "execution": {
     "iopub.execute_input": "2023-06-07T04:01:31.455239Z",
     "iopub.status.busy": "2023-06-07T04:01:31.454703Z",
     "iopub.status.idle": "2023-06-07T04:01:31.464414Z",
     "shell.execute_reply": "2023-06-07T04:01:31.463879Z",
     "shell.execute_reply.started": "2023-06-07T04:00:35.677317Z"
    },
    "papermill": {
     "duration": 0.045614,
     "end_time": "2023-06-07T04:01:31.464555",
     "exception": false,
     "start_time": "2023-06-07T04:01:31.418941",
     "status": "completed"
    },
    "tags": []
   },
   "outputs": [
    {
     "name": "stdout",
     "output_type": "stream",
     "text": [
      "<class 'pandas.core.frame.DataFrame'>\n",
      "Int64Index: 1070 entries, 209 to 1140\n",
      "Data columns (total 7 columns):\n",
      " #   Column    Non-Null Count  Dtype  \n",
      "---  ------    --------------  -----  \n",
      " 0   id        1070 non-null   int64  \n",
      " 1   age       1070 non-null   int64  \n",
      " 2   sex       1070 non-null   object \n",
      " 3   bmi       1070 non-null   float64\n",
      " 4   children  1070 non-null   int64  \n",
      " 5   smoker    1070 non-null   object \n",
      " 6   region    1070 non-null   object \n",
      "dtypes: float64(1), int64(3), object(3)\n",
      "memory usage: 66.9+ KB\n"
     ]
    }
   ],
   "source": [
    "X_train.info()"
   ]
  },
  {
   "cell_type": "code",
   "execution_count": 8,
   "id": "66a1b368",
   "metadata": {
    "execution": {
     "iopub.execute_input": "2023-06-07T04:01:31.623389Z",
     "iopub.status.busy": "2023-06-07T04:01:31.622728Z",
     "iopub.status.idle": "2023-06-07T04:01:31.629903Z",
     "shell.execute_reply": "2023-06-07T04:01:31.629442Z",
     "shell.execute_reply.started": "2023-06-07T04:00:35.813439Z"
    },
    "papermill": {
     "duration": 0.138385,
     "end_time": "2023-06-07T04:01:31.630058",
     "exception": false,
     "start_time": "2023-06-07T04:01:31.491673",
     "status": "completed"
    },
    "tags": []
   },
   "outputs": [
    {
     "data": {
      "text/plain": [
       "Index(['sex', 'smoker', 'region'], dtype='object')"
      ]
     },
     "execution_count": 8,
     "metadata": {},
     "output_type": "execute_result"
    }
   ],
   "source": [
    "X_train.select_dtypes(\"object\").columns"
   ]
  },
  {
   "cell_type": "code",
   "execution_count": 9,
   "id": "3010c943",
   "metadata": {
    "execution": {
     "iopub.execute_input": "2023-06-07T04:01:31.697546Z",
     "iopub.status.busy": "2023-06-07T04:01:31.696930Z",
     "iopub.status.idle": "2023-06-07T04:01:31.701048Z",
     "shell.execute_reply": "2023-06-07T04:01:31.700546Z",
     "shell.execute_reply.started": "2023-06-07T04:00:35.823660Z"
    },
    "papermill": {
     "duration": 0.044223,
     "end_time": "2023-06-07T04:01:31.701174",
     "exception": false,
     "start_time": "2023-06-07T04:01:31.656951",
     "status": "completed"
    },
    "tags": []
   },
   "outputs": [
    {
     "name": "stdout",
     "output_type": "stream",
     "text": [
      "\n",
      "===== sex =====\n",
      "[train]\n",
      "male      551\n",
      "female    519\n",
      "Name: sex, dtype: int64\n",
      "[test]\n",
      "female    143\n",
      "male      125\n",
      "Name: sex, dtype: int64\n",
      "\n",
      "===== smoker =====\n",
      "[train]\n",
      "no     845\n",
      "yes    225\n",
      "Name: smoker, dtype: int64\n",
      "[test]\n",
      "no     219\n",
      "yes     49\n",
      "Name: smoker, dtype: int64\n",
      "\n",
      "===== region =====\n",
      "[train]\n",
      "southeast    304\n",
      "northeast    266\n",
      "southwest    261\n",
      "northwest    239\n",
      "Name: region, dtype: int64\n",
      "[test]\n",
      "northwest    86\n",
      "southwest    64\n",
      "southeast    60\n",
      "northeast    58\n",
      "Name: region, dtype: int64\n"
     ]
    }
   ],
   "source": [
    "# Train ['sex', 'smoker', 'region']\n",
    "cols = X_train.select_dtypes(\"object\").columns\n",
    "\n",
    "for col in cols:\n",
    "    print(\"\\n=====\", col, \"=====\")\n",
    "    print(\"[train]\")\n",
    "    print(X_train[col].value_counts())\n",
    "    print(\"[test]\")\n",
    "    print(X_test[col].value_counts())"
   ]
  },
  {
   "cell_type": "markdown",
   "id": "c78395a0",
   "metadata": {
    "papermill": {
     "duration": 0.026955,
     "end_time": "2023-06-07T04:01:31.755982",
     "exception": false,
     "start_time": "2023-06-07T04:01:31.729027",
     "status": "completed"
    },
    "tags": []
   },
   "source": [
    "# Preprocessing"
   ]
  },
  {
   "cell_type": "markdown",
   "id": "5d23ea8b",
   "metadata": {
    "papermill": {
     "duration": 0.03581,
     "end_time": "2023-06-07T04:01:31.823416",
     "exception": false,
     "start_time": "2023-06-07T04:01:31.787606",
     "status": "completed"
    },
    "tags": []
   },
   "source": [
    "## Categorical Variables"
   ]
  },
  {
   "cell_type": "code",
   "execution_count": 10,
   "id": "97b3c351",
   "metadata": {
    "execution": {
     "iopub.execute_input": "2023-06-07T04:01:31.889544Z",
     "iopub.status.busy": "2023-06-07T04:01:31.888986Z",
     "iopub.status.idle": "2023-06-07T04:01:31.900549Z",
     "shell.execute_reply": "2023-06-07T04:01:31.899948Z",
     "shell.execute_reply.started": "2023-06-07T04:00:35.848094Z"
    },
    "papermill": {
     "duration": 0.04476,
     "end_time": "2023-06-07T04:01:31.900684",
     "exception": false,
     "start_time": "2023-06-07T04:01:31.855924",
     "status": "completed"
    },
    "tags": []
   },
   "outputs": [],
   "source": [
    "X_train = pd.get_dummies(X_train, columns = cols)\n",
    "X_test = pd.get_dummies(X_test, columns = cols)"
   ]
  },
  {
   "cell_type": "code",
   "execution_count": 11,
   "id": "6e40d16f",
   "metadata": {
    "execution": {
     "iopub.execute_input": "2023-06-07T04:01:31.966405Z",
     "iopub.status.busy": "2023-06-07T04:01:31.965688Z",
     "iopub.status.idle": "2023-06-07T04:01:31.970038Z",
     "shell.execute_reply": "2023-06-07T04:01:31.969453Z",
     "shell.execute_reply.started": "2023-06-07T04:00:35.865149Z"
    },
    "papermill": {
     "duration": 0.042369,
     "end_time": "2023-06-07T04:01:31.970166",
     "exception": false,
     "start_time": "2023-06-07T04:01:31.927797",
     "status": "completed"
    },
    "tags": []
   },
   "outputs": [
    {
     "data": {
      "text/html": [
       "<div>\n",
       "<style scoped>\n",
       "    .dataframe tbody tr th:only-of-type {\n",
       "        vertical-align: middle;\n",
       "    }\n",
       "\n",
       "    .dataframe tbody tr th {\n",
       "        vertical-align: top;\n",
       "    }\n",
       "\n",
       "    .dataframe thead th {\n",
       "        text-align: right;\n",
       "    }\n",
       "</style>\n",
       "<table border=\"1\" class=\"dataframe\">\n",
       "  <thead>\n",
       "    <tr style=\"text-align: right;\">\n",
       "      <th></th>\n",
       "      <th>id</th>\n",
       "      <th>age</th>\n",
       "      <th>bmi</th>\n",
       "      <th>children</th>\n",
       "      <th>sex_female</th>\n",
       "      <th>sex_male</th>\n",
       "      <th>smoker_no</th>\n",
       "      <th>smoker_yes</th>\n",
       "      <th>region_northeast</th>\n",
       "      <th>region_northwest</th>\n",
       "      <th>region_southeast</th>\n",
       "      <th>region_southwest</th>\n",
       "    </tr>\n",
       "  </thead>\n",
       "  <tbody>\n",
       "    <tr>\n",
       "      <th>209</th>\n",
       "      <td>209</td>\n",
       "      <td>40</td>\n",
       "      <td>41.23</td>\n",
       "      <td>1</td>\n",
       "      <td>0</td>\n",
       "      <td>1</td>\n",
       "      <td>1</td>\n",
       "      <td>0</td>\n",
       "      <td>1</td>\n",
       "      <td>0</td>\n",
       "      <td>0</td>\n",
       "      <td>0</td>\n",
       "    </tr>\n",
       "    <tr>\n",
       "      <th>540</th>\n",
       "      <td>540</td>\n",
       "      <td>34</td>\n",
       "      <td>38.00</td>\n",
       "      <td>3</td>\n",
       "      <td>1</td>\n",
       "      <td>0</td>\n",
       "      <td>1</td>\n",
       "      <td>0</td>\n",
       "      <td>0</td>\n",
       "      <td>0</td>\n",
       "      <td>0</td>\n",
       "      <td>1</td>\n",
       "    </tr>\n",
       "  </tbody>\n",
       "</table>\n",
       "</div>"
      ],
      "text/plain": [
       "      id  age    bmi  children  sex_female  sex_male  smoker_no  smoker_yes  \\\n",
       "209  209   40  41.23         1           0         1          1           0   \n",
       "540  540   34  38.00         3           1         0          1           0   \n",
       "\n",
       "     region_northeast  region_northwest  region_southeast  region_southwest  \n",
       "209                 1                 0                 0                 0  \n",
       "540                 0                 0                 0                 1  "
      ]
     },
     "execution_count": 11,
     "metadata": {},
     "output_type": "execute_result"
    }
   ],
   "source": [
    "X_train.head(2)"
   ]
  },
  {
   "cell_type": "markdown",
   "id": "d9f53009",
   "metadata": {
    "papermill": {
     "duration": 0.027106,
     "end_time": "2023-06-07T04:01:32.025418",
     "exception": false,
     "start_time": "2023-06-07T04:01:31.998312",
     "status": "completed"
    },
    "tags": []
   },
   "source": [
    "## Log Transform"
   ]
  },
  {
   "cell_type": "code",
   "execution_count": 12,
   "id": "a1863e5f",
   "metadata": {
    "execution": {
     "iopub.execute_input": "2023-06-07T04:01:32.106743Z",
     "iopub.status.busy": "2023-06-07T04:01:32.102776Z",
     "iopub.status.idle": "2023-06-07T04:01:32.248372Z",
     "shell.execute_reply": "2023-06-07T04:01:32.247896Z",
     "shell.execute_reply.started": "2023-06-07T04:00:35.878925Z"
    },
    "papermill": {
     "duration": 0.193535,
     "end_time": "2023-06-07T04:01:32.248495",
     "exception": false,
     "start_time": "2023-06-07T04:01:32.054960",
     "status": "completed"
    },
    "tags": []
   },
   "outputs": [
    {
     "data": {
      "text/plain": [
       "<AxesSubplot:>"
      ]
     },
     "execution_count": 12,
     "metadata": {},
     "output_type": "execute_result"
    },
    {
     "data": {
      "image/png": "[encoded data removed]",
      "text/plain": [
       "<Figure size 432x288 with 1 Axes>"
      ]
     },
     "metadata": {
      "needs_background": "light"
     },
     "output_type": "display_data"
    }
   ],
   "source": [
    "y_train['charges'].hist()"
   ]
  },
  {
   "cell_type": "code",
   "execution_count": 13,
   "id": "78c029d5",
   "metadata": {
    "execution": {
     "iopub.execute_input": "2023-06-07T04:01:32.311569Z",
     "iopub.status.busy": "2023-06-07T04:01:32.311043Z",
     "iopub.status.idle": "2023-06-07T04:01:32.314033Z",
     "shell.execute_reply": "2023-06-07T04:01:32.313519Z",
     "shell.execute_reply.started": "2023-06-07T04:00:36.160976Z"
    },
    "papermill": {
     "duration": 0.036526,
     "end_time": "2023-06-07T04:01:32.314147",
     "exception": false,
     "start_time": "2023-06-07T04:01:32.277621",
     "status": "completed"
    },
    "tags": []
   },
   "outputs": [],
   "source": [
    "y_train['charges'] = np.log1p(y_train['charges'])"
   ]
  },
  {
   "cell_type": "code",
   "execution_count": 14,
   "id": "157b36a7",
   "metadata": {
    "execution": {
     "iopub.execute_input": "2023-06-07T04:01:32.399419Z",
     "iopub.status.busy": "2023-06-07T04:01:32.398769Z",
     "iopub.status.idle": "2023-06-07T04:01:32.533496Z",
     "shell.execute_reply": "2023-06-07T04:01:32.533949Z",
     "shell.execute_reply.started": "2023-06-07T04:00:36.168645Z"
    },
    "papermill": {
     "duration": 0.191747,
     "end_time": "2023-06-07T04:01:32.534092",
     "exception": false,
     "start_time": "2023-06-07T04:01:32.342345",
     "status": "completed"
    },
    "tags": []
   },
   "outputs": [
    {
     "data": {
      "text/plain": [
       "<AxesSubplot:>"
      ]
     },
     "execution_count": 14,
     "metadata": {},
     "output_type": "execute_result"
    },
    {
     "data": {
      "image/png": "[encoded data removed]",
      "text/plain": [
       "<Figure size 432x288 with 1 Axes>"
      ]
     },
     "metadata": {
      "needs_background": "light"
     },
     "output_type": "display_data"
    }
   ],
   "source": [
    "y_train['charges'].hist()"
   ]
  },
  {
   "cell_type": "markdown",
   "id": "6d9741ea",
   "metadata": {
    "papermill": {
     "duration": 0.02894,
     "end_time": "2023-06-07T04:01:32.592695",
     "exception": false,
     "start_time": "2023-06-07T04:01:32.563755",
     "status": "completed"
    },
    "tags": []
   },
   "source": [
    "## Standard Scaler"
   ]
  },
  {
   "cell_type": "code",
   "execution_count": 15,
   "id": "b864fbf6",
   "metadata": {
    "execution": {
     "iopub.execute_input": "2023-06-07T04:01:32.658114Z",
     "iopub.status.busy": "2023-06-07T04:01:32.657403Z",
     "iopub.status.idle": "2023-06-07T04:01:32.664536Z",
     "shell.execute_reply": "2023-06-07T04:01:32.665056Z",
     "shell.execute_reply.started": "2023-06-07T04:00:36.460058Z"
    },
    "papermill": {
     "duration": 0.043016,
     "end_time": "2023-06-07T04:01:32.665219",
     "exception": false,
     "start_time": "2023-06-07T04:01:32.622203",
     "status": "completed"
    },
    "tags": []
   },
   "outputs": [],
   "source": [
    "from sklearn.preprocessing import StandardScaler\n",
    "scaler = StandardScaler()\n",
    "X_train['bmi'] = scaler.fit_transform(X_train[['bmi']])\n",
    "X_test['bmi'] = scaler.transform(X_test[['bmi']])"
   ]
  },
  {
   "cell_type": "markdown",
   "id": "007a6bab",
   "metadata": {
    "papermill": {
     "duration": 0.030737,
     "end_time": "2023-06-07T04:01:32.725354",
     "exception": false,
     "start_time": "2023-06-07T04:01:32.694617",
     "status": "completed"
    },
    "tags": []
   },
   "source": [
    "## label encoding"
   ]
  },
  {
   "cell_type": "code",
   "execution_count": 16,
   "id": "ddcfcb83",
   "metadata": {
    "execution": {
     "iopub.execute_input": "2023-06-07T04:01:32.787269Z",
     "iopub.status.busy": "2023-06-07T04:01:32.786703Z",
     "iopub.status.idle": "2023-06-07T04:01:32.793236Z",
     "shell.execute_reply": "2023-06-07T04:01:32.792677Z",
     "shell.execute_reply.started": "2023-06-07T04:00:36.479121Z"
    },
    "papermill": {
     "duration": 0.038554,
     "end_time": "2023-06-07T04:01:32.793363",
     "exception": false,
     "start_time": "2023-06-07T04:01:32.754809",
     "status": "completed"
    },
    "tags": []
   },
   "outputs": [],
   "source": [
    "# 나이를 10대, 20대, 30대로 구분하기 위해 10을 나눈 몫 값만 구함\n",
    "X_train['age'] = X_train['age'].apply(lambda x: x//10)\n",
    "X_test['age'] = X_test['age'].apply(lambda x: x//10)"
   ]
  },
  {
   "cell_type": "code",
   "execution_count": 17,
   "id": "9c8aaf82",
   "metadata": {
    "execution": {
     "iopub.execute_input": "2023-06-07T04:01:32.859526Z",
     "iopub.status.busy": "2023-06-07T04:01:32.858907Z",
     "iopub.status.idle": "2023-06-07T04:01:32.864474Z",
     "shell.execute_reply": "2023-06-07T04:01:32.864900Z",
     "shell.execute_reply.started": "2023-06-07T04:00:36.491261Z"
    },
    "papermill": {
     "duration": 0.042349,
     "end_time": "2023-06-07T04:01:32.865071",
     "exception": false,
     "start_time": "2023-06-07T04:01:32.822722",
     "status": "completed"
    },
    "tags": []
   },
   "outputs": [
    {
     "data": {
      "text/html": [
       "<div>\n",
       "<style scoped>\n",
       "    .dataframe tbody tr th:only-of-type {\n",
       "        vertical-align: middle;\n",
       "    }\n",
       "\n",
       "    .dataframe tbody tr th {\n",
       "        vertical-align: top;\n",
       "    }\n",
       "\n",
       "    .dataframe thead th {\n",
       "        text-align: right;\n",
       "    }\n",
       "</style>\n",
       "<table border=\"1\" class=\"dataframe\">\n",
       "  <thead>\n",
       "    <tr style=\"text-align: right;\">\n",
       "      <th></th>\n",
       "      <th>id</th>\n",
       "      <th>age</th>\n",
       "      <th>bmi</th>\n",
       "      <th>children</th>\n",
       "      <th>sex_female</th>\n",
       "      <th>sex_male</th>\n",
       "      <th>smoker_no</th>\n",
       "      <th>smoker_yes</th>\n",
       "      <th>region_northeast</th>\n",
       "      <th>region_northwest</th>\n",
       "      <th>region_southeast</th>\n",
       "      <th>region_southwest</th>\n",
       "    </tr>\n",
       "  </thead>\n",
       "  <tbody>\n",
       "    <tr>\n",
       "      <th>209</th>\n",
       "      <td>209</td>\n",
       "      <td>4</td>\n",
       "      <td>1.707232</td>\n",
       "      <td>1</td>\n",
       "      <td>0</td>\n",
       "      <td>1</td>\n",
       "      <td>1</td>\n",
       "      <td>0</td>\n",
       "      <td>1</td>\n",
       "      <td>0</td>\n",
       "      <td>0</td>\n",
       "      <td>0</td>\n",
       "    </tr>\n",
       "    <tr>\n",
       "      <th>540</th>\n",
       "      <td>540</td>\n",
       "      <td>3</td>\n",
       "      <td>1.180775</td>\n",
       "      <td>3</td>\n",
       "      <td>1</td>\n",
       "      <td>0</td>\n",
       "      <td>1</td>\n",
       "      <td>0</td>\n",
       "      <td>0</td>\n",
       "      <td>0</td>\n",
       "      <td>0</td>\n",
       "      <td>1</td>\n",
       "    </tr>\n",
       "    <tr>\n",
       "      <th>747</th>\n",
       "      <td>747</td>\n",
       "      <td>1</td>\n",
       "      <td>-1.466991</td>\n",
       "      <td>0</td>\n",
       "      <td>0</td>\n",
       "      <td>1</td>\n",
       "      <td>1</td>\n",
       "      <td>0</td>\n",
       "      <td>0</td>\n",
       "      <td>1</td>\n",
       "      <td>0</td>\n",
       "      <td>0</td>\n",
       "    </tr>\n",
       "  </tbody>\n",
       "</table>\n",
       "</div>"
      ],
      "text/plain": [
       "      id  age       bmi  children  sex_female  sex_male  smoker_no  \\\n",
       "209  209    4  1.707232         1           0         1          1   \n",
       "540  540    3  1.180775         3           1         0          1   \n",
       "747  747    1 -1.466991         0           0         1          1   \n",
       "\n",
       "     smoker_yes  region_northeast  region_northwest  region_southeast  \\\n",
       "209           0                 1                 0                 0   \n",
       "540           0                 0                 0                 0   \n",
       "747           0                 0                 1                 0   \n",
       "\n",
       "     region_southwest  \n",
       "209                 0  \n",
       "540                 1  \n",
       "747                 0  "
      ]
     },
     "execution_count": 17,
     "metadata": {},
     "output_type": "execute_result"
    }
   ],
   "source": [
    "X_train.head(3)"
   ]
  },
  {
   "cell_type": "markdown",
   "id": "77cb030b",
   "metadata": {
    "papermill": {
     "duration": 0.028847,
     "end_time": "2023-06-07T04:01:32.923640",
     "exception": false,
     "start_time": "2023-06-07T04:01:32.894793",
     "status": "completed"
    },
    "tags": []
   },
   "source": [
    "## Train-Validation Split"
   ]
  },
  {
   "cell_type": "code",
   "execution_count": 18,
   "id": "3ad1b3ed",
   "metadata": {
    "execution": {
     "iopub.execute_input": "2023-06-07T04:01:32.988771Z",
     "iopub.status.busy": "2023-06-07T04:01:32.988230Z",
     "iopub.status.idle": "2023-06-07T04:01:32.991045Z",
     "shell.execute_reply": "2023-06-07T04:01:32.991551Z",
     "shell.execute_reply.started": "2023-06-07T04:00:36.513380Z"
    },
    "papermill": {
     "duration": 0.038651,
     "end_time": "2023-06-07T04:01:32.991742",
     "exception": false,
     "start_time": "2023-06-07T04:01:32.953091",
     "status": "completed"
    },
    "tags": []
   },
   "outputs": [
    {
     "name": "stderr",
     "output_type": "stream",
     "text": [
      "/opt/conda/lib/python3.7/site-packages/ipykernel_launcher.py:2: FutureWarning: In a future version of pandas all arguments of DataFrame.drop except for the argument 'labels' will be keyword-only\n",
      "  \n"
     ]
    }
   ],
   "source": [
    "target = y_train['charges']\n",
    "X_train = X_train.drop('id', 1)"
   ]
  },
  {
   "cell_type": "code",
   "execution_count": 19,
   "id": "858d44ce",
   "metadata": {
    "execution": {
     "iopub.execute_input": "2023-06-07T04:01:33.056647Z",
     "iopub.status.busy": "2023-06-07T04:01:33.056081Z",
     "iopub.status.idle": "2023-06-07T04:01:33.062554Z",
     "shell.execute_reply": "2023-06-07T04:01:33.062062Z",
     "shell.execute_reply.started": "2023-06-07T04:00:36.521492Z"
    },
    "papermill": {
     "duration": 0.04088,
     "end_time": "2023-06-07T04:01:33.062689",
     "exception": false,
     "start_time": "2023-06-07T04:01:33.021809",
     "status": "completed"
    },
    "tags": []
   },
   "outputs": [
    {
     "data": {
      "text/plain": [
       "((909, 11), (161, 11), (909,), (161,))"
      ]
     },
     "execution_count": 19,
     "metadata": {},
     "output_type": "execute_result"
    }
   ],
   "source": [
    "from sklearn.model_selection import train_test_split\n",
    "X_tr, X_val, y_tr, y_val = train_test_split(X_train, target, test_size=0.15, random_state=2022)\n",
    "X_tr.shape, X_val.shape, y_tr.shape, y_val.shape"
   ]
  },
  {
   "cell_type": "code",
   "execution_count": 20,
   "id": "b087652d",
   "metadata": {
    "execution": {
     "iopub.execute_input": "2023-06-07T04:01:33.127888Z",
     "iopub.status.busy": "2023-06-07T04:01:33.127253Z",
     "iopub.status.idle": "2023-06-07T04:01:33.561961Z",
     "shell.execute_reply": "2023-06-07T04:01:33.561419Z",
     "shell.execute_reply.started": "2023-06-07T04:00:36.549328Z"
    },
    "papermill": {
     "duration": 0.469394,
     "end_time": "2023-06-07T04:01:33.562099",
     "exception": false,
     "start_time": "2023-06-07T04:01:33.092705",
     "status": "completed"
    },
    "tags": []
   },
   "outputs": [],
   "source": [
    "from sklearn.ensemble import RandomForestRegressor\n",
    "\n",
    "rf = RandomForestRegressor()\n",
    "rf.fit(X_tr, y_tr)\n",
    "pred = rf.predict(X_val)"
   ]
  },
  {
   "cell_type": "code",
   "execution_count": 21,
   "id": "604b16c1",
   "metadata": {
    "execution": {
     "iopub.execute_input": "2023-06-07T04:01:33.630707Z",
     "iopub.status.busy": "2023-06-07T04:01:33.630065Z",
     "iopub.status.idle": "2023-06-07T04:01:33.632929Z",
     "shell.execute_reply": "2023-06-07T04:01:33.632484Z",
     "shell.execute_reply.started": "2023-06-07T04:00:37.106303Z"
    },
    "papermill": {
     "duration": 0.03926,
     "end_time": "2023-06-07T04:01:33.633060",
     "exception": false,
     "start_time": "2023-06-07T04:01:33.593800",
     "status": "completed"
    },
    "tags": []
   },
   "outputs": [
    {
     "data": {
      "text/plain": [
       "0.3812792230559092"
      ]
     },
     "execution_count": 21,
     "metadata": {},
     "output_type": "execute_result"
    }
   ],
   "source": [
    "from sklearn.metrics import mean_squared_error\n",
    "def rmse2(y_true, y_pred):\n",
    "    return np.sqrt(mean_squared_error(y_true, y_pred))\n",
    "\n",
    "rmse2(y_val, pred)"
   ]
  },
  {
   "cell_type": "code",
   "execution_count": 22,
   "id": "d8f397a5",
   "metadata": {
    "execution": {
     "iopub.execute_input": "2023-06-07T04:01:33.748512Z",
     "iopub.status.busy": "2023-06-07T04:01:33.748004Z",
     "iopub.status.idle": "2023-06-07T04:01:33.753065Z",
     "shell.execute_reply": "2023-06-07T04:01:33.753456Z",
     "shell.execute_reply.started": "2023-06-07T04:00:37.116822Z"
    },
    "papermill": {
     "duration": 0.039261,
     "end_time": "2023-06-07T04:01:33.753582",
     "exception": false,
     "start_time": "2023-06-07T04:01:33.714321",
     "status": "completed"
    },
    "tags": []
   },
   "outputs": [
    {
     "data": {
      "text/plain": [
       "0.3812792230559092"
      ]
     },
     "execution_count": 22,
     "metadata": {},
     "output_type": "execute_result"
    }
   ],
   "source": [
    "def rmse(y_true, y_pred):\n",
    "    return np.sqrt(np.mean((y_true-y_pred)**2))\n",
    "\n",
    "rmse(y_val, pred)"
   ]
  },
  {
   "cell_type": "code",
   "execution_count": 23,
   "id": "179ae76c",
   "metadata": {
    "execution": {
     "iopub.execute_input": "2023-06-07T04:01:33.817537Z",
     "iopub.status.busy": "2023-06-07T04:01:33.817034Z",
     "iopub.status.idle": "2023-06-07T04:01:34.136558Z",
     "shell.execute_reply": "2023-06-07T04:01:34.135610Z",
     "shell.execute_reply.started": "2023-06-07T04:00:37.128639Z"
    },
    "papermill": {
     "duration": 0.352685,
     "end_time": "2023-06-07T04:01:34.136689",
     "exception": false,
     "start_time": "2023-06-07T04:01:33.784004",
     "status": "completed"
    },
    "tags": []
   },
   "outputs": [],
   "source": [
    "from xgboost import XGBRegressor\n",
    "\n",
    "xgb = XGBRegressor()\n",
    "xgb.fit(X_tr, y_tr)\n",
    "pred = xgb.predict(X_val)"
   ]
  },
  {
   "cell_type": "code",
   "execution_count": 24,
   "id": "f409a94b",
   "metadata": {
    "execution": {
     "iopub.execute_input": "2023-06-07T04:01:34.205462Z",
     "iopub.status.busy": "2023-06-07T04:01:34.203551Z",
     "iopub.status.idle": "2023-06-07T04:01:34.208870Z",
     "shell.execute_reply": "2023-06-07T04:01:34.208335Z",
     "shell.execute_reply.started": "2023-06-07T04:00:37.570124Z"
    },
    "papermill": {
     "duration": 0.040266,
     "end_time": "2023-06-07T04:01:34.209018",
     "exception": false,
     "start_time": "2023-06-07T04:01:34.168752",
     "status": "completed"
    },
    "tags": []
   },
   "outputs": [
    {
     "data": {
      "text/plain": [
       "0.39580148944349686"
      ]
     },
     "execution_count": 24,
     "metadata": {},
     "output_type": "execute_result"
    }
   ],
   "source": [
    "rmse2(y_val, pred)"
   ]
  },
  {
   "cell_type": "code",
   "execution_count": 25,
   "id": "fc3c02ce",
   "metadata": {
    "execution": {
     "iopub.execute_input": "2023-06-07T04:01:34.284950Z",
     "iopub.status.busy": "2023-06-07T04:01:34.284040Z",
     "iopub.status.idle": "2023-06-07T04:01:34.551574Z",
     "shell.execute_reply": "2023-06-07T04:01:34.551108Z",
     "shell.execute_reply.started": "2023-06-07T04:00:37.582759Z"
    },
    "papermill": {
     "duration": 0.311289,
     "end_time": "2023-06-07T04:01:34.551693",
     "exception": false,
     "start_time": "2023-06-07T04:01:34.240404",
     "status": "completed"
    },
    "tags": []
   },
   "outputs": [
    {
     "name": "stderr",
     "output_type": "stream",
     "text": [
      "/opt/conda/lib/python3.7/site-packages/ipykernel_launcher.py:2: FutureWarning: In a future version of pandas all arguments of DataFrame.drop except for the argument 'labels' will be keyword-only\n",
      "  \n"
     ]
    }
   ],
   "source": [
    "rf.fit(X_train, y_train['charges'])\n",
    "pred = rf.predict(X_test.drop('id',1))"
   ]
  },
  {
   "cell_type": "code",
   "execution_count": 26,
   "id": "0ca12d3c",
   "metadata": {
    "execution": {
     "iopub.execute_input": "2023-06-07T04:01:34.626137Z",
     "iopub.status.busy": "2023-06-07T04:01:34.625448Z",
     "iopub.status.idle": "2023-06-07T04:01:34.628404Z",
     "shell.execute_reply": "2023-06-07T04:01:34.628775Z",
     "shell.execute_reply.started": "2023-06-07T04:00:37.981638Z"
    },
    "papermill": {
     "duration": 0.044821,
     "end_time": "2023-06-07T04:01:34.628951",
     "exception": false,
     "start_time": "2023-06-07T04:01:34.584130",
     "status": "completed"
    },
    "tags": []
   },
   "outputs": [
    {
     "data": {
      "text/html": [
       "<div>\n",
       "<style scoped>\n",
       "    .dataframe tbody tr th:only-of-type {\n",
       "        vertical-align: middle;\n",
       "    }\n",
       "\n",
       "    .dataframe tbody tr th {\n",
       "        vertical-align: top;\n",
       "    }\n",
       "\n",
       "    .dataframe thead th {\n",
       "        text-align: right;\n",
       "    }\n",
       "</style>\n",
       "<table border=\"1\" class=\"dataframe\">\n",
       "  <thead>\n",
       "    <tr style=\"text-align: right;\">\n",
       "      <th></th>\n",
       "      <th>id</th>\n",
       "      <th>charges</th>\n",
       "    </tr>\n",
       "  </thead>\n",
       "  <tbody>\n",
       "    <tr>\n",
       "      <th>1088</th>\n",
       "      <td>1088</td>\n",
       "      <td>9492.714587</td>\n",
       "    </tr>\n",
       "    <tr>\n",
       "      <th>1157</th>\n",
       "      <td>1157</td>\n",
       "      <td>4207.544632</td>\n",
       "    </tr>\n",
       "    <tr>\n",
       "      <th>1267</th>\n",
       "      <td>1267</td>\n",
       "      <td>34175.365204</td>\n",
       "    </tr>\n",
       "    <tr>\n",
       "      <th>506</th>\n",
       "      <td>506</td>\n",
       "      <td>2860.988687</td>\n",
       "    </tr>\n",
       "    <tr>\n",
       "      <th>659</th>\n",
       "      <td>659</td>\n",
       "      <td>12420.916043</td>\n",
       "    </tr>\n",
       "  </tbody>\n",
       "</table>\n",
       "</div>"
      ],
      "text/plain": [
       "        id       charges\n",
       "1088  1088   9492.714587\n",
       "1157  1157   4207.544632\n",
       "1267  1267  34175.365204\n",
       "506    506   2860.988687\n",
       "659    659  12420.916043"
      ]
     },
     "execution_count": 26,
     "metadata": {},
     "output_type": "execute_result"
    }
   ],
   "source": [
    "pred = np.exp(pred)\n",
    "output = pd.DataFrame({'id': y_test['id'], 'charges':pred})\n",
    "output.head()"
   ]
  },
  {
   "cell_type": "code",
   "execution_count": 27,
   "id": "ab463b34",
   "metadata": {
    "execution": {
     "iopub.execute_input": "2023-06-07T04:01:34.698425Z",
     "iopub.status.busy": "2023-06-07T04:01:34.697639Z",
     "iopub.status.idle": "2023-06-07T04:01:34.703324Z",
     "shell.execute_reply": "2023-06-07T04:01:34.703744Z",
     "shell.execute_reply.started": "2023-06-07T04:00:37.997576Z"
    },
    "papermill": {
     "duration": 0.043174,
     "end_time": "2023-06-07T04:01:34.703925",
     "exception": false,
     "start_time": "2023-06-07T04:01:34.660751",
     "status": "completed"
    },
    "tags": []
   },
   "outputs": [],
   "source": [
    "output.to_csv(\"000000.csv\", index=False)"
   ]
  },
  {
   "cell_type": "markdown",
   "id": "b09a6654",
   "metadata": {
    "papermill": {
     "duration": 0.032163,
     "end_time": "2023-06-07T04:01:34.767708",
     "exception": false,
     "start_time": "2023-06-07T04:01:34.735545",
     "status": "completed"
    },
    "tags": []
   },
   "source": [
    "# 결과 체점"
   ]
  },
  {
   "cell_type": "code",
   "execution_count": 28,
   "id": "3f852320",
   "metadata": {
    "execution": {
     "iopub.execute_input": "2023-06-07T04:01:34.838180Z",
     "iopub.status.busy": "2023-06-07T04:01:34.834797Z",
     "iopub.status.idle": "2023-06-07T04:01:34.841730Z",
     "shell.execute_reply": "2023-06-07T04:01:34.842203Z",
     "shell.execute_reply.started": "2023-06-07T04:00:38.010916Z"
    },
    "papermill": {
     "duration": 0.041943,
     "end_time": "2023-06-07T04:01:34.842384",
     "exception": false,
     "start_time": "2023-06-07T04:01:34.800441",
     "status": "completed"
    },
    "tags": []
   },
   "outputs": [
    {
     "data": {
      "text/plain": [
       "4794.7792092452555"
      ]
     },
     "execution_count": 28,
     "metadata": {},
     "output_type": "execute_result"
    }
   ],
   "source": [
    "rmse(y_test['charges'], pred)"
   ]
  },
  {
   "cell_type": "code",
   "execution_count": null,
   "id": "3f2f65c0",
   "metadata": {
    "papermill": {
     "duration": 0.03274,
     "end_time": "2023-06-07T04:01:34.907830",
     "exception": false,
     "start_time": "2023-06-07T04:01:34.875090",
     "status": "completed"
    },
    "tags": []
   },
   "outputs": [],
   "source": []
  },
  {
   "cell_type": "code",
   "execution_count": null,
   "id": "89d61646",
   "metadata": {
    "papermill": {
     "duration": 0.031925,
     "end_time": "2023-06-07T04:01:34.972040",
     "exception": false,
     "start_time": "2023-06-07T04:01:34.940115",
     "status": "completed"
    },
    "tags": []
   },
   "outputs": [],
   "source": []
  },
  {
   "cell_type": "code",
   "execution_count": null,
   "id": "ac1247b7",
   "metadata": {
    "papermill": {
     "duration": 0.031833,
     "end_time": "2023-06-07T04:01:35.036628",
     "exception": false,
     "start_time": "2023-06-07T04:01:35.004795",
     "status": "completed"
    },
    "tags": []
   },
   "outputs": [],
   "source": []
  },
  {
   "cell_type": "code",
   "execution_count": null,
   "id": "df984ebc",
   "metadata": {
    "papermill": {
     "duration": 0.032803,
     "end_time": "2023-06-07T04:01:35.102488",
     "exception": false,
     "start_time": "2023-06-07T04:01:35.069685",
     "status": "completed"
    },
    "tags": []
   },
   "outputs": [],
   "source": []
  }
 ],
 "metadata": {
  "kernelspec": {
   "display_name": "Python 3",
   "language": "python",
   "name": "python3"
  },
  "language_info": {
   "codemirror_mode": {
    "name": "ipython",
    "version": 3
   },
   "file_extension": ".py",
   "mimetype": "text/x-python",
   "name": "python",
   "nbconvert_exporter": "python",
   "pygments_lexer": "ipython3",
   "version": "3.7.10"
  },
  "papermill": {
   "default_parameters": {},
   "duration": 14.129402,
   "end_time": "2023-06-07T04:01:35.844542",
   "environment_variables": {},
   "exception": null,
   "input_path": "__notebook__.ipynb",
   "output_path": "__notebook__.ipynb",
   "parameters": {},
   "start_time": "2023-06-07T04:01:21.715140",
   "version": "2.3.3"
  }
 },
 "nbformat": 4,
 "nbformat_minor": 5
}
