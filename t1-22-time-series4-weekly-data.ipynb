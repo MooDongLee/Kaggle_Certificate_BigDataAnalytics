{
 "cells": [
  {
   "cell_type": "markdown",
   "id": "a984f7ca",
   "metadata": {
    "_cell_guid": "b1076dfc-b9ad-4769-8c92-a6c4dae69d19",
    "_uuid": "8f2839f25d086af736a60e9eeb907d3b93b6e0e5",
    "papermill": {
     "duration": 0.00893,
     "end_time": "2023-06-06T05:53:08.896815",
     "exception": false,
     "start_time": "2023-06-06T05:53:08.887885",
     "status": "completed"
    },
    "tags": []
   },
   "source": [
    "### 주어진 데이터(basic2.csv)에서 주 단위 Sales의 합계를 구하고, 가장 큰 값을 가진 주와 작은 값을 가진 주의 차이를 구하시오(절대값)\n",
    "- 데이터셋 : basic2.csv\n",
    "- 오른쪽 상단 copy&edit 클릭 -> 예상문제 풀이 시작"
   ]
  },
  {
   "cell_type": "code",
   "execution_count": 1,
   "id": "08cbab1d",
   "metadata": {
    "execution": {
     "iopub.execute_input": "2023-06-06T05:53:08.922700Z",
     "iopub.status.busy": "2023-06-06T05:53:08.921970Z",
     "iopub.status.idle": "2023-06-06T05:53:08.926269Z",
     "shell.execute_reply": "2023-06-06T05:53:08.926840Z",
     "shell.execute_reply.started": "2023-06-06T05:52:09.904220Z"
    },
    "papermill": {
     "duration": 0.021718,
     "end_time": "2023-06-06T05:53:08.927130",
     "exception": false,
     "start_time": "2023-06-06T05:53:08.905412",
     "status": "completed"
    },
    "tags": []
   },
   "outputs": [],
   "source": [
    "import pandas as pd"
   ]
  },
  {
   "cell_type": "code",
   "execution_count": 2,
   "id": "3f014fdb",
   "metadata": {
    "execution": {
     "iopub.execute_input": "2023-06-06T05:53:08.948757Z",
     "iopub.status.busy": "2023-06-06T05:53:08.946121Z",
     "iopub.status.idle": "2023-06-06T05:53:08.976240Z",
     "shell.execute_reply": "2023-06-06T05:53:08.976765Z",
     "shell.execute_reply.started": "2023-06-06T05:52:09.938419Z"
    },
    "papermill": {
     "duration": 0.041638,
     "end_time": "2023-06-06T05:53:08.976940",
     "exception": false,
     "start_time": "2023-06-06T05:53:08.935302",
     "status": "completed"
    },
    "tags": []
   },
   "outputs": [],
   "source": [
    "df = pd.read_csv(\"../input/bigdatacertificationkr/basic2.csv\", parse_dates=['Date'], index_col=0)\n",
    "\n",
    "# 아래 코드를 한줄로 표현함\n",
    "# df = pd.read_csv(\"../input/bigdatacertificationkr/basic2.csv\")\n",
    "# df['Date'] = pd.to_datetime(df['Date'])\n",
    "# df = df.set_index('Date')"
   ]
  },
  {
   "cell_type": "code",
   "execution_count": 3,
   "id": "e6e1229f",
   "metadata": {
    "execution": {
     "iopub.execute_input": "2023-06-06T05:53:08.998881Z",
     "iopub.status.busy": "2023-06-06T05:53:08.998237Z",
     "iopub.status.idle": "2023-06-06T05:53:09.015974Z",
     "shell.execute_reply": "2023-06-06T05:53:09.016426Z",
     "shell.execute_reply.started": "2023-06-06T05:52:09.970375Z"
    },
    "papermill": {
     "duration": 0.029496,
     "end_time": "2023-06-06T05:53:09.016577",
     "exception": false,
     "start_time": "2023-06-06T05:53:08.987081",
     "status": "completed"
    },
    "tags": []
   },
   "outputs": [
    {
     "name": "stdout",
     "output_type": "stream",
     "text": [
      "(730, 4)\n"
     ]
    },
    {
     "data": {
      "text/html": [
       "<div>\n",
       "<style scoped>\n",
       "    .dataframe tbody tr th:only-of-type {\n",
       "        vertical-align: middle;\n",
       "    }\n",
       "\n",
       "    .dataframe tbody tr th {\n",
       "        vertical-align: top;\n",
       "    }\n",
       "\n",
       "    .dataframe thead th {\n",
       "        text-align: right;\n",
       "    }\n",
       "</style>\n",
       "<table border=\"1\" class=\"dataframe\">\n",
       "  <thead>\n",
       "    <tr style=\"text-align: right;\">\n",
       "      <th></th>\n",
       "      <th>Sales</th>\n",
       "      <th>PV</th>\n",
       "      <th>UV</th>\n",
       "      <th>Events</th>\n",
       "    </tr>\n",
       "    <tr>\n",
       "      <th>Date</th>\n",
       "      <th></th>\n",
       "      <th></th>\n",
       "      <th></th>\n",
       "      <th></th>\n",
       "    </tr>\n",
       "  </thead>\n",
       "  <tbody>\n",
       "    <tr>\n",
       "      <th>2022-01-01</th>\n",
       "      <td>22711525</td>\n",
       "      <td>397349</td>\n",
       "      <td>4421.0</td>\n",
       "      <td>1</td>\n",
       "    </tr>\n",
       "    <tr>\n",
       "      <th>2022-01-02</th>\n",
       "      <td>36779</td>\n",
       "      <td>3969</td>\n",
       "      <td>2289.0</td>\n",
       "      <td>0</td>\n",
       "    </tr>\n",
       "    <tr>\n",
       "      <th>2022-01-03</th>\n",
       "      <td>13943875</td>\n",
       "      <td>373890</td>\n",
       "      <td>NaN</td>\n",
       "      <td>1</td>\n",
       "    </tr>\n",
       "  </tbody>\n",
       "</table>\n",
       "</div>"
      ],
      "text/plain": [
       "               Sales      PV      UV  Events\n",
       "Date                                        \n",
       "2022-01-01  22711525  397349  4421.0       1\n",
       "2022-01-02     36779    3969  2289.0       0\n",
       "2022-01-03  13943875  373890     NaN       1"
      ]
     },
     "execution_count": 3,
     "metadata": {},
     "output_type": "execute_result"
    }
   ],
   "source": [
    "print(df.shape)\n",
    "df.head(3)"
   ]
  },
  {
   "cell_type": "code",
   "execution_count": 4,
   "id": "b2ac6f0f",
   "metadata": {
    "execution": {
     "iopub.execute_input": "2023-06-06T05:53:09.044492Z",
     "iopub.status.busy": "2023-06-06T05:53:09.043840Z",
     "iopub.status.idle": "2023-06-06T05:53:09.047360Z",
     "shell.execute_reply": "2023-06-06T05:53:09.046889Z",
     "shell.execute_reply.started": "2023-06-06T05:52:09.997009Z"
    },
    "papermill": {
     "duration": 0.02199,
     "end_time": "2023-06-06T05:53:09.047501",
     "exception": false,
     "start_time": "2023-06-06T05:53:09.025511",
     "status": "completed"
    },
    "tags": []
   },
   "outputs": [
    {
     "data": {
      "text/html": [
       "<div>\n",
       "<style scoped>\n",
       "    .dataframe tbody tr th:only-of-type {\n",
       "        vertical-align: middle;\n",
       "    }\n",
       "\n",
       "    .dataframe tbody tr th {\n",
       "        vertical-align: top;\n",
       "    }\n",
       "\n",
       "    .dataframe thead th {\n",
       "        text-align: right;\n",
       "    }\n",
       "</style>\n",
       "<table border=\"1\" class=\"dataframe\">\n",
       "  <thead>\n",
       "    <tr style=\"text-align: right;\">\n",
       "      <th></th>\n",
       "      <th>Sales</th>\n",
       "      <th>PV</th>\n",
       "      <th>UV</th>\n",
       "      <th>Events</th>\n",
       "    </tr>\n",
       "    <tr>\n",
       "      <th>Date</th>\n",
       "      <th></th>\n",
       "      <th></th>\n",
       "      <th></th>\n",
       "      <th></th>\n",
       "    </tr>\n",
       "  </thead>\n",
       "  <tbody>\n",
       "    <tr>\n",
       "      <th>2023-12-29</th>\n",
       "      <td>1164008</td>\n",
       "      <td>14309</td>\n",
       "      <td>193.0</td>\n",
       "      <td>0</td>\n",
       "    </tr>\n",
       "    <tr>\n",
       "      <th>2023-12-30</th>\n",
       "      <td>3977696</td>\n",
       "      <td>60935</td>\n",
       "      <td>NaN</td>\n",
       "      <td>0</td>\n",
       "    </tr>\n",
       "    <tr>\n",
       "      <th>2023-12-31</th>\n",
       "      <td>3719764</td>\n",
       "      <td>60963</td>\n",
       "      <td>1507.0</td>\n",
       "      <td>0</td>\n",
       "    </tr>\n",
       "  </tbody>\n",
       "</table>\n",
       "</div>"
      ],
      "text/plain": [
       "              Sales     PV      UV  Events\n",
       "Date                                      \n",
       "2023-12-29  1164008  14309   193.0       0\n",
       "2023-12-30  3977696  60935     NaN       0\n",
       "2023-12-31  3719764  60963  1507.0       0"
      ]
     },
     "execution_count": 4,
     "metadata": {},
     "output_type": "execute_result"
    }
   ],
   "source": [
    "df.tail(3)"
   ]
  },
  {
   "cell_type": "markdown",
   "id": "526da546",
   "metadata": {
    "papermill": {
     "duration": 0.008537,
     "end_time": "2023-06-06T05:53:09.065127",
     "exception": false,
     "start_time": "2023-06-06T05:53:09.056590",
     "status": "completed"
    },
    "tags": []
   },
   "source": [
    "### 단위 \n",
    "- 주 단위 W\n",
    "- 2주 단위 2W\n",
    "- 월 단위 M"
   ]
  },
  {
   "cell_type": "code",
   "execution_count": 5,
   "id": "bad83e1f",
   "metadata": {
    "execution": {
     "iopub.execute_input": "2023-06-06T05:53:09.087980Z",
     "iopub.status.busy": "2023-06-06T05:53:09.085723Z",
     "iopub.status.idle": "2023-06-06T05:53:09.112780Z",
     "shell.execute_reply": "2023-06-06T05:53:09.113220Z",
     "shell.execute_reply.started": "2023-06-06T05:52:10.012481Z"
    },
    "papermill": {
     "duration": 0.039325,
     "end_time": "2023-06-06T05:53:09.113382",
     "exception": false,
     "start_time": "2023-06-06T05:53:09.074057",
     "status": "completed"
    },
    "tags": []
   },
   "outputs": [
    {
     "data": {
      "text/html": [
       "<div>\n",
       "<style scoped>\n",
       "    .dataframe tbody tr th:only-of-type {\n",
       "        vertical-align: middle;\n",
       "    }\n",
       "\n",
       "    .dataframe tbody tr th {\n",
       "        vertical-align: top;\n",
       "    }\n",
       "\n",
       "    .dataframe thead th {\n",
       "        text-align: right;\n",
       "    }\n",
       "</style>\n",
       "<table border=\"1\" class=\"dataframe\">\n",
       "  <thead>\n",
       "    <tr style=\"text-align: right;\">\n",
       "      <th></th>\n",
       "      <th>Sales</th>\n",
       "      <th>PV</th>\n",
       "      <th>UV</th>\n",
       "      <th>Events</th>\n",
       "    </tr>\n",
       "    <tr>\n",
       "      <th>Date</th>\n",
       "      <th></th>\n",
       "      <th></th>\n",
       "      <th></th>\n",
       "      <th></th>\n",
       "    </tr>\n",
       "  </thead>\n",
       "  <tbody>\n",
       "    <tr>\n",
       "      <th>2022-01-02</th>\n",
       "      <td>22748304</td>\n",
       "      <td>401318</td>\n",
       "      <td>6710.0</td>\n",
       "      <td>1</td>\n",
       "    </tr>\n",
       "    <tr>\n",
       "      <th>2022-01-09</th>\n",
       "      <td>33373822</td>\n",
       "      <td>1148464</td>\n",
       "      <td>15189.0</td>\n",
       "      <td>2</td>\n",
       "    </tr>\n",
       "    <tr>\n",
       "      <th>2022-01-16</th>\n",
       "      <td>20754519</td>\n",
       "      <td>283773</td>\n",
       "      <td>9344.0</td>\n",
       "      <td>0</td>\n",
       "    </tr>\n",
       "    <tr>\n",
       "      <th>2022-01-23</th>\n",
       "      <td>21880751</td>\n",
       "      <td>538633</td>\n",
       "      <td>9841.0</td>\n",
       "      <td>1</td>\n",
       "    </tr>\n",
       "    <tr>\n",
       "      <th>2022-01-30</th>\n",
       "      <td>28878452</td>\n",
       "      <td>560814</td>\n",
       "      <td>7808.0</td>\n",
       "      <td>1</td>\n",
       "    </tr>\n",
       "  </tbody>\n",
       "</table>\n",
       "</div>"
      ],
      "text/plain": [
       "               Sales       PV       UV  Events\n",
       "Date                                          \n",
       "2022-01-02  22748304   401318   6710.0       1\n",
       "2022-01-09  33373822  1148464  15189.0       2\n",
       "2022-01-16  20754519   283773   9344.0       0\n",
       "2022-01-23  21880751   538633   9841.0       1\n",
       "2022-01-30  28878452   560814   7808.0       1"
      ]
     },
     "execution_count": 5,
     "metadata": {},
     "output_type": "execute_result"
    }
   ],
   "source": [
    "df_w = df.resample('W').sum()\n",
    "df_w.head()"
   ]
  },
  {
   "cell_type": "code",
   "execution_count": 6,
   "id": "7008b6e0",
   "metadata": {
    "execution": {
     "iopub.execute_input": "2023-06-06T05:53:09.139703Z",
     "iopub.status.busy": "2023-06-06T05:53:09.138838Z",
     "iopub.status.idle": "2023-06-06T05:53:09.142903Z",
     "shell.execute_reply": "2023-06-06T05:53:09.142404Z",
     "shell.execute_reply.started": "2023-06-06T05:52:10.051176Z"
    },
    "papermill": {
     "duration": 0.019689,
     "end_time": "2023-06-06T05:53:09.143014",
     "exception": false,
     "start_time": "2023-06-06T05:53:09.123325",
     "status": "completed"
    },
    "tags": []
   },
   "outputs": [
    {
     "data": {
      "text/plain": [
       "99165648"
      ]
     },
     "execution_count": 6,
     "metadata": {},
     "output_type": "execute_result"
    }
   ],
   "source": [
    "ma = df_w['Sales'].max()\n",
    "ma"
   ]
  },
  {
   "cell_type": "code",
   "execution_count": 7,
   "id": "78cbc0be",
   "metadata": {
    "execution": {
     "iopub.execute_input": "2023-06-06T05:53:09.166625Z",
     "iopub.status.busy": "2023-06-06T05:53:09.165940Z",
     "iopub.status.idle": "2023-06-06T05:53:09.169123Z",
     "shell.execute_reply": "2023-06-06T05:53:09.169547Z",
     "shell.execute_reply.started": "2023-06-06T05:52:10.060709Z"
    },
    "papermill": {
     "duration": 0.017308,
     "end_time": "2023-06-06T05:53:09.169694",
     "exception": false,
     "start_time": "2023-06-06T05:53:09.152386",
     "status": "completed"
    },
    "tags": []
   },
   "outputs": [
    {
     "data": {
      "text/plain": [
       "7526598"
      ]
     },
     "execution_count": 7,
     "metadata": {},
     "output_type": "execute_result"
    }
   ],
   "source": [
    "mi = df_w['Sales'].min()\n",
    "mi"
   ]
  },
  {
   "cell_type": "code",
   "execution_count": 8,
   "id": "b6e5ac10",
   "metadata": {
    "execution": {
     "iopub.execute_input": "2023-06-06T05:53:09.194599Z",
     "iopub.status.busy": "2023-06-06T05:53:09.193878Z",
     "iopub.status.idle": "2023-06-06T05:53:09.197885Z",
     "shell.execute_reply": "2023-06-06T05:53:09.197442Z",
     "shell.execute_reply.started": "2023-06-06T05:52:10.074158Z"
    },
    "papermill": {
     "duration": 0.018709,
     "end_time": "2023-06-06T05:53:09.198011",
     "exception": false,
     "start_time": "2023-06-06T05:53:09.179302",
     "status": "completed"
    },
    "tags": []
   },
   "outputs": [
    {
     "name": "stdout",
     "output_type": "stream",
     "text": [
      "91639050\n"
     ]
    }
   ],
   "source": [
    "print(ma - mi)"
   ]
  },
  {
   "cell_type": "code",
   "execution_count": null,
   "id": "a6a9e416",
   "metadata": {
    "papermill": {
     "duration": 0.009838,
     "end_time": "2023-06-06T05:53:09.218108",
     "exception": false,
     "start_time": "2023-06-06T05:53:09.208270",
     "status": "completed"
    },
    "tags": []
   },
   "outputs": [],
   "source": []
  }
 ],
 "metadata": {
  "kernelspec": {
   "display_name": "Python 3",
   "language": "python",
   "name": "python3"
  },
  "language_info": {
   "codemirror_mode": {
    "name": "ipython",
    "version": 3
   },
   "file_extension": ".py",
   "mimetype": "text/x-python",
   "name": "python",
   "nbconvert_exporter": "python",
   "pygments_lexer": "ipython3",
   "version": "3.7.10"
  },
  "papermill": {
   "default_parameters": {},
   "duration": 9.917273,
   "end_time": "2023-06-06T05:53:09.837539",
   "environment_variables": {},
   "exception": null,
   "input_path": "__notebook__.ipynb",
   "output_path": "__notebook__.ipynb",
   "parameters": {},
   "start_time": "2023-06-06T05:52:59.920266",
   "version": "2.3.3"
  }
 },
 "nbformat": 4,
 "nbformat_minor": 5
}
