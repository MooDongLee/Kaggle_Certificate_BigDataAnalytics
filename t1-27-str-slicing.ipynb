{
 "cells": [
  {
   "cell_type": "markdown",
   "id": "de5300bd",
   "metadata": {
    "papermill": {
     "duration": 0.004468,
     "end_time": "2023-06-06T06:40:17.968955",
     "exception": false,
     "start_time": "2023-06-06T06:40:17.964487",
     "status": "completed"
    },
    "tags": []
   },
   "source": [
    "## basic1 데이터에서 f4가 E로 시작하면서 부산에 살고 20대인 사람은 몇 명일까요?"
   ]
  },
  {
   "cell_type": "code",
   "execution_count": 1,
   "id": "07f15990",
   "metadata": {
    "execution": {
     "iopub.execute_input": "2023-06-06T06:40:17.978924Z",
     "iopub.status.busy": "2023-06-06T06:40:17.978314Z",
     "iopub.status.idle": "2023-06-06T06:40:18.007859Z",
     "shell.execute_reply": "2023-06-06T06:40:18.006728Z"
    },
    "papermill": {
     "duration": 0.03895,
     "end_time": "2023-06-06T06:40:18.011670",
     "exception": false,
     "start_time": "2023-06-06T06:40:17.972720",
     "status": "completed"
    },
    "tags": []
   },
   "outputs": [],
   "source": [
    "import pandas as pd\n",
    "df = pd.read_csv(\"../input/bigdatacertificationkr/basic1.csv\")"
   ]
  },
  {
   "cell_type": "code",
   "execution_count": 2,
   "id": "0783e00a",
   "metadata": {
    "execution": {
     "iopub.execute_input": "2023-06-06T06:40:18.021498Z",
     "iopub.status.busy": "2023-06-06T06:40:18.020213Z",
     "iopub.status.idle": "2023-06-06T06:40:18.036347Z",
     "shell.execute_reply": "2023-06-06T06:40:18.034741Z"
    },
    "papermill": {
     "duration": 0.024292,
     "end_time": "2023-06-06T06:40:18.039588",
     "exception": false,
     "start_time": "2023-06-06T06:40:18.015296",
     "status": "completed"
    },
    "tags": []
   },
   "outputs": [],
   "source": [
    "df['EI'] = df['f4'].str[:1]"
   ]
  },
  {
   "cell_type": "code",
   "execution_count": 3,
   "id": "65a90120",
   "metadata": {
    "execution": {
     "iopub.execute_input": "2023-06-06T06:40:18.048808Z",
     "iopub.status.busy": "2023-06-06T06:40:18.048344Z",
     "iopub.status.idle": "2023-06-06T06:40:18.061398Z",
     "shell.execute_reply": "2023-06-06T06:40:18.060185Z"
    },
    "papermill": {
     "duration": 0.021848,
     "end_time": "2023-06-06T06:40:18.065071",
     "exception": false,
     "start_time": "2023-06-06T06:40:18.043223",
     "status": "completed"
    },
    "tags": []
   },
   "outputs": [
    {
     "data": {
      "text/plain": [
       "0      True\n",
       "1      True\n",
       "2     False\n",
       "3     False\n",
       "4     False\n",
       "      ...  \n",
       "95     True\n",
       "96    False\n",
       "97    False\n",
       "98     True\n",
       "99     True\n",
       "Name: EI, Length: 100, dtype: bool"
      ]
     },
     "execution_count": 3,
     "metadata": {},
     "output_type": "execute_result"
    }
   ],
   "source": [
    "cond1 = df['EI'] == \"E\"\n",
    "cond1"
   ]
  },
  {
   "cell_type": "code",
   "execution_count": 4,
   "id": "caee626c",
   "metadata": {
    "execution": {
     "iopub.execute_input": "2023-06-06T06:40:18.074892Z",
     "iopub.status.busy": "2023-06-06T06:40:18.074417Z",
     "iopub.status.idle": "2023-06-06T06:40:18.086522Z",
     "shell.execute_reply": "2023-06-06T06:40:18.084780Z"
    },
    "papermill": {
     "duration": 0.021577,
     "end_time": "2023-06-06T06:40:18.090608",
     "exception": false,
     "start_time": "2023-06-06T06:40:18.069031",
     "status": "completed"
    },
    "tags": []
   },
   "outputs": [
    {
     "data": {
      "text/plain": [
       "0     False\n",
       "1     False\n",
       "2     False\n",
       "3     False\n",
       "4     False\n",
       "      ...  \n",
       "95    False\n",
       "96    False\n",
       "97    False\n",
       "98    False\n",
       "99    False\n",
       "Name: city, Length: 100, dtype: bool"
      ]
     },
     "execution_count": 4,
     "metadata": {},
     "output_type": "execute_result"
    }
   ],
   "source": [
    "cond2 = df['city'] == \"부산\"\n",
    "cond2"
   ]
  },
  {
   "cell_type": "code",
   "execution_count": 5,
   "id": "118bcf84",
   "metadata": {
    "execution": {
     "iopub.execute_input": "2023-06-06T06:40:18.100583Z",
     "iopub.status.busy": "2023-06-06T06:40:18.100159Z",
     "iopub.status.idle": "2023-06-06T06:40:18.111499Z",
     "shell.execute_reply": "2023-06-06T06:40:18.110190Z"
    },
    "papermill": {
     "duration": 0.019579,
     "end_time": "2023-06-06T06:40:18.114220",
     "exception": false,
     "start_time": "2023-06-06T06:40:18.094641",
     "status": "completed"
    },
    "tags": []
   },
   "outputs": [
    {
     "data": {
      "text/plain": [
       "0     False\n",
       "1     False\n",
       "2      True\n",
       "3     False\n",
       "4      True\n",
       "      ...  \n",
       "95    False\n",
       "96    False\n",
       "97    False\n",
       "98    False\n",
       "99    False\n",
       "Name: age, Length: 100, dtype: bool"
      ]
     },
     "execution_count": 5,
     "metadata": {},
     "output_type": "execute_result"
    }
   ],
   "source": [
    "cond3 = (df['age'] >= 20) & (df['age'] < 30)\n",
    "cond3"
   ]
  },
  {
   "cell_type": "code",
   "execution_count": 6,
   "id": "9ea4c15a",
   "metadata": {
    "execution": {
     "iopub.execute_input": "2023-06-06T06:40:18.124258Z",
     "iopub.status.busy": "2023-06-06T06:40:18.123815Z",
     "iopub.status.idle": "2023-06-06T06:40:18.136515Z",
     "shell.execute_reply": "2023-06-06T06:40:18.134651Z"
    },
    "papermill": {
     "duration": 0.020858,
     "end_time": "2023-06-06T06:40:18.139150",
     "exception": false,
     "start_time": "2023-06-06T06:40:18.118292",
     "status": "completed"
    },
    "tags": []
   },
   "outputs": [
    {
     "name": "stdout",
     "output_type": "stream",
     "text": [
      "0\n"
     ]
    }
   ],
   "source": [
    "print(len(df[cond1 & cond2 & cond3]))"
   ]
  }
 ],
 "metadata": {
  "kernelspec": {
   "display_name": "Python 3",
   "language": "python",
   "name": "python3"
  },
  "language_info": {
   "codemirror_mode": {
    "name": "ipython",
    "version": 3
   },
   "file_extension": ".py",
   "mimetype": "text/x-python",
   "name": "python",
   "nbconvert_exporter": "python",
   "pygments_lexer": "ipython3",
   "version": "3.7.12"
  },
  "papermill": {
   "default_parameters": {},
   "duration": 13.716071,
   "end_time": "2023-06-06T06:40:18.866390",
   "environment_variables": {},
   "exception": null,
   "input_path": "__notebook__.ipynb",
   "output_path": "__notebook__.ipynb",
   "parameters": {},
   "start_time": "2023-06-06T06:40:05.150319",
   "version": "2.3.4"
  }
 },
 "nbformat": 4,
 "nbformat_minor": 5
}
